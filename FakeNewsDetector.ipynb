{
  "cells": [
    {
      "cell_type": "markdown",
      "metadata": {
        "id": "view-in-github",
        "colab_type": "text"
      },
      "source": [
        "<a href=\"https://colab.research.google.com/github/guilherme-mantovani/FakeNewsDetector/blob/main/FakeNewsDetector.ipynb\" target=\"_parent\"><img src=\"https://colab.research.google.com/assets/colab-badge.svg\" alt=\"Open In Colab\"/></a>"
      ]
    },
    {
      "cell_type": "markdown",
      "source": [
        "## Instalando bibliotecas"
      ],
      "metadata": {
        "id": "lhZP0nsA_9eA"
      }
    },
    {
      "cell_type": "code",
      "execution_count": 11,
      "metadata": {
        "colab": {
          "base_uri": "https://localhost:8080/"
        },
        "id": "5qVy1WA9qjr-",
        "outputId": "e33d7b71-4780-4e34-ac1a-c9401a518c50"
      },
      "outputs": [
        {
          "output_type": "stream",
          "name": "stdout",
          "text": [
            "\u001b[?25l     \u001b[90m━━━━━━━━━━━━━━━━━━━━━━━━━━━━━━━━━━━━━━━━\u001b[0m \u001b[32m0.0/57.6 kB\u001b[0m \u001b[31m?\u001b[0m eta \u001b[36m-:--:--\u001b[0m\r\u001b[2K     \u001b[90m━━━━━━━━━━━━━━━━━━━━━━━━━━━━━━━━━━━━━━━━\u001b[0m \u001b[32m57.6/57.6 kB\u001b[0m \u001b[31m2.1 MB/s\u001b[0m eta \u001b[36m0:00:00\u001b[0m\n",
            "\u001b[?25h"
          ]
        }
      ],
      "source": [
        "#Para ler vídeo do youtube\n",
        "!pip install -q -U pytube\n",
        "\n",
        "#Gemini\n",
        "!pip install -q -U google-generativeai\n",
        "\n",
        "#extração de áudio\n",
        "!pip install -q -U moviepy"
      ]
    },
    {
      "cell_type": "markdown",
      "source": [
        "## Importando bibliotecas principais e configurando credenciais\n",
        "\n",
        "Para salvar as credenciais do google, está sendo utilizada a função Secrets, que fica aqui à esquerda ⬅\n",
        "\n",
        "Crie uma secret com nome GOOGLE_API_KEY com a key de acesso ao gemini, e outra GOOGLE_CX com o id da busca customizada gerada conforme a explicação abaixo:\n",
        "\n",
        "**# Importante**\n",
        "\n",
        "**Para este projeto, é altamente recomendável ativar na mesma chave utilizada para o Gemini o produto Custom search API**\n",
        "\n",
        "Segui o tutorial descrito em: https://drlee.io/build-your-own-google-create-a-custom-search-engine-with-trusted-sources-c1c113e845cc\n",
        "\n",
        "Para facilitar, se esta chave não estiver cadastrada, o programa ainda irá funcionar, mas não há garantias de fontes reais atuais de informação, com o link de onde a notícia pode ser encontrada, o que deixa a utilidade bem inferior e menos impressionante"
      ],
      "metadata": {
        "id": "16YKwYFbAxLU"
      }
    },
    {
      "cell_type": "code",
      "execution_count": 19,
      "metadata": {
        "id": "zRc7FVYxsdcz"
      },
      "outputs": [],
      "source": [
        "import google.generativeai as genai\n",
        "import json\n",
        "import os\n",
        "\n",
        "from google.colab import userdata\n",
        "#armazenando em uma variável pois será reutilizado para API de busca\n",
        "GOOGLE_API_KEY = userdata.get('GOOGLE_API_KEY')\n",
        "GOOGLE_CX = userdata.get('GOOGLE_CX')\n",
        "genai.configure(api_key=GOOGLE_API_KEY)"
      ]
    },
    {
      "cell_type": "markdown",
      "source": [
        "Aqui são definidas algumas funções que serão utilizadas posteriormente, para extrair frames do vídeo (1 por segundo), e converter em array de imagens"
      ],
      "metadata": {
        "id": "sxXeqZ6JYD6W"
      }
    },
    {
      "cell_type": "code",
      "execution_count": 13,
      "metadata": {
        "id": "fTavUC1wwFVm"
      },
      "outputs": [],
      "source": [
        "import cv2\n",
        "import shutil\n",
        "\n",
        "# Create or cleanup existing extracted image frames directory.\n",
        "FRAME_EXTRACTION_DIRECTORY = \"/content/frames\"\n",
        "FRAME_PREFIX = \"_frame\"\n",
        "def create_frame_output_dir(output_dir):\n",
        "  if not os.path.exists(output_dir):\n",
        "    os.makedirs(output_dir)\n",
        "  else:\n",
        "    shutil.rmtree(output_dir)\n",
        "    os.makedirs(output_dir)\n",
        "\n",
        "def extract_frame_from_video(video_file_path):\n",
        "  print(f\"Extracting {video_file_path} at 1 frame per second. This might take a bit...\")\n",
        "  create_frame_output_dir(FRAME_EXTRACTION_DIRECTORY)\n",
        "  vidcap = cv2.VideoCapture(video_file_path)\n",
        "  fps = vidcap.get(cv2.CAP_PROP_FPS)\n",
        "  frame_duration = 1 / fps  # Time interval between frames (in seconds)\n",
        "  output_file_prefix = os.path.basename(video_file_path).replace('.', '_')\n",
        "  frame_count = 0\n",
        "  count = 0\n",
        "  while vidcap.isOpened():\n",
        "      success, frame = vidcap.read()\n",
        "      if not success: # End of video\n",
        "          break\n",
        "      if int(count / fps) == frame_count: # Extract a frame every second\n",
        "          min = frame_count // 60\n",
        "          sec = frame_count % 60\n",
        "          time_string = f\"{min:02d}:{sec:02d}\"\n",
        "          image_name = f\"{output_file_prefix}{FRAME_PREFIX}{time_string}.jpg\"\n",
        "          output_filename = os.path.join(FRAME_EXTRACTION_DIRECTORY, image_name)\n",
        "          cv2.imwrite(output_filename, frame)\n",
        "          frame_count += 1\n",
        "      count += 1\n",
        "  vidcap.release() # Release the capture object\\n\",\n",
        "  print(f\"Completed video frame extraction!\\n\\nExtracted: {frame_count} frames\")"
      ]
    },
    {
      "cell_type": "markdown",
      "source": [
        "Esta função exclui os dados da base do Gemini **gerados nesta aplicação**. Importante pra não lotar o armazenamento. Se não rodar no final, os arquivos são apagados automaticamente 2 dias após (segundo a documentação)"
      ],
      "metadata": {
        "id": "fuG2iN0EZdhr"
      }
    },
    {
      "cell_type": "code",
      "execution_count": 14,
      "metadata": {
        "id": "75cM54VG5VoV"
      },
      "outputs": [],
      "source": [
        "#variável que armazena o áudio do vídeo, declarando agora para poder excluir quando necessário\n",
        "response_mp3 = \"\"\n",
        "\n",
        "def delete_files():\n",
        "  print(f'Deleting {len(uploaded_files)} images. This might take a bit...')\n",
        "  for file in uploaded_files:\n",
        "    genai.delete_file(file.response.name)\n",
        "    print(f'Deleted {file.file_path} at URI {file.response.uri}')\n",
        "  if(response_mp3 != \"\"):\n",
        "    genai.delete_file(response_mp3)\n",
        "    print(f'Deleted {response_mp3}')\n",
        "  print(f\"Completed deleting files!\\n\\nDeleted: {len(uploaded_files)} files\")"
      ]
    },
    {
      "cell_type": "markdown",
      "source": [
        "# A partir do segundo teste\n",
        "\n",
        "**Se estiver realizando o segundo teste, pode começar a executar o código daqui!**\n",
        "\n",
        "\n",
        "Nesta seção, o sistema cria dois botões para o usuário escolher a forma de importação do vídeo. Por se tratar de uma imersão Alura+Google, foi desenvolvido usando o Youtube ou upload de vídeo, mas poderiam se criar outras formas posteriormente como outras redes sociais ou sites, além de outras fontes como imagens.\n",
        "\n",
        "# Importante!\n",
        "\n",
        "Por limitações dos serviços, APIs, processamento e tempo disponível de desenvolvimento, escolha vídeos curtos para testes (menos de 1 minuto para youtube, menos de 30 segundos para upload, segundo os poucos testes feitos por mim)."
      ],
      "metadata": {
        "id": "MZENKE_jWD3n"
      }
    },
    {
      "cell_type": "code",
      "source": [
        "# @title\n",
        "import ipywidgets as widgets\n",
        "from IPython.display import HTML\n",
        "from IPython.display import display\n",
        "from google.colab import files\n",
        "from IPython.display import clear_output\n",
        "\n",
        "display(HTML('<link rel=\"stylesheet\" href=\"//stackpath.bootstrapcdn.com/font-awesome/4.7.0/css/font-awesome.min.css\"/>'))\n",
        "\n",
        "#Descrição dos botões (pra não precisar repetir o texto no if)\n",
        "d_b_yt = \"Link do vídeo (youtube)\"\n",
        "d_b_up = \"Upload de vídeo\"\n",
        "\n",
        "\n",
        "button_yt = widgets.Button(description=d_b_yt, icon='youtube', button_style='danger')\n",
        "output = widgets.Output()\n",
        "button_up = widgets.Button(description=d_b_up, icon='upload', button_style='info')\n",
        "\n",
        "tipo = '';\n",
        "\n",
        "def on_button_clicked(b):\n",
        "  global tipo\n",
        "  # Display the message within the output widget.\n",
        "  if(b.description == d_b_yt):\n",
        "    tipo = 'yt'\n",
        "  else:\n",
        "    tipo = 'up'\n",
        "  print(\"Tipo escolhido: \"+b.description)\n",
        "\n",
        "button_yt.on_click(on_button_clicked)\n",
        "button_up.on_click(on_button_clicked)\n",
        "\n",
        "display(button_yt, output)\n",
        "display(button_up, output)"
      ],
      "metadata": {
        "colab": {
          "base_uri": "https://localhost:8080/",
          "height": 98,
          "referenced_widgets": [
            "d1644ea9b1a348f7a7d712384b0ded18",
            "bc54b54bcd6f4a60b49c183c1b61815b",
            "16111e532aab4ad6bdc2b328ac843f91",
            "88cfb244527c4cb89e0aabee7a248e75",
            "151ced1f2ed04f529eb96fe984824806",
            "f1ee48350590440e92956d091064b0a0",
            "1541ee067128489f81247e13cb03069e",
            "f57f8e89ad6e40708269b20ceec69586"
          ]
        },
        "id": "wgYlI9IGUjQl",
        "outputId": "cb570f12-e4be-4942-b5cb-d342797cd730"
      },
      "execution_count": 51,
      "outputs": [
        {
          "output_type": "display_data",
          "data": {
            "text/plain": [
              "<IPython.core.display.HTML object>"
            ],
            "text/html": [
              "<link rel=\"stylesheet\" href=\"//stackpath.bootstrapcdn.com/font-awesome/4.7.0/css/font-awesome.min.css\"/>"
            ]
          },
          "metadata": {}
        },
        {
          "output_type": "display_data",
          "data": {
            "text/plain": [
              "Button(button_style='danger', description='Link do vídeo (youtube)', icon='youtube', style=ButtonStyle())"
            ],
            "application/vnd.jupyter.widget-view+json": {
              "version_major": 2,
              "version_minor": 0,
              "model_id": "d1644ea9b1a348f7a7d712384b0ded18"
            }
          },
          "metadata": {}
        },
        {
          "output_type": "display_data",
          "data": {
            "text/plain": [
              "Output()"
            ],
            "application/vnd.jupyter.widget-view+json": {
              "version_major": 2,
              "version_minor": 0,
              "model_id": "88cfb244527c4cb89e0aabee7a248e75"
            }
          },
          "metadata": {}
        },
        {
          "output_type": "display_data",
          "data": {
            "text/plain": [
              "Button(button_style='info', description='Upload de vídeo', icon='upload', style=ButtonStyle())"
            ],
            "application/vnd.jupyter.widget-view+json": {
              "version_major": 2,
              "version_minor": 0,
              "model_id": "f1ee48350590440e92956d091064b0a0"
            }
          },
          "metadata": {}
        },
        {
          "output_type": "display_data",
          "data": {
            "text/plain": [
              "Output()"
            ],
            "application/vnd.jupyter.widget-view+json": {
              "version_major": 2,
              "version_minor": 0,
              "model_id": "88cfb244527c4cb89e0aabee7a248e75"
            }
          },
          "metadata": {}
        },
        {
          "output_type": "stream",
          "name": "stdout",
          "text": [
            "Tipo escolhido: Upload de vídeo\n"
          ]
        }
      ]
    },
    {
      "cell_type": "markdown",
      "source": [
        "Nesta seção, será feito o upload do vídeo ou download (se for do Youtube)"
      ],
      "metadata": {
        "id": "nOJzL01YX8Y-"
      }
    },
    {
      "cell_type": "code",
      "execution_count": 52,
      "metadata": {
        "colab": {
          "base_uri": "https://localhost:8080/",
          "height": 73
        },
        "id": "ed9gOSAkq361",
        "outputId": "a7f50fb1-e3e7-460d-b2d9-ba753c837e99"
      },
      "outputs": [
        {
          "output_type": "display_data",
          "data": {
            "text/plain": [
              "<IPython.core.display.HTML object>"
            ],
            "text/html": [
              "\n",
              "     <input type=\"file\" id=\"files-6b76c602-a05f-4214-8a05-7944341a4009\" name=\"files[]\" multiple disabled\n",
              "        style=\"border:none\" />\n",
              "     <output id=\"result-6b76c602-a05f-4214-8a05-7944341a4009\">\n",
              "      Upload widget is only available when the cell has been executed in the\n",
              "      current browser session. Please rerun this cell to enable.\n",
              "      </output>\n",
              "      <script>// Copyright 2017 Google LLC\n",
              "//\n",
              "// Licensed under the Apache License, Version 2.0 (the \"License\");\n",
              "// you may not use this file except in compliance with the License.\n",
              "// You may obtain a copy of the License at\n",
              "//\n",
              "//      http://www.apache.org/licenses/LICENSE-2.0\n",
              "//\n",
              "// Unless required by applicable law or agreed to in writing, software\n",
              "// distributed under the License is distributed on an \"AS IS\" BASIS,\n",
              "// WITHOUT WARRANTIES OR CONDITIONS OF ANY KIND, either express or implied.\n",
              "// See the License for the specific language governing permissions and\n",
              "// limitations under the License.\n",
              "\n",
              "/**\n",
              " * @fileoverview Helpers for google.colab Python module.\n",
              " */\n",
              "(function(scope) {\n",
              "function span(text, styleAttributes = {}) {\n",
              "  const element = document.createElement('span');\n",
              "  element.textContent = text;\n",
              "  for (const key of Object.keys(styleAttributes)) {\n",
              "    element.style[key] = styleAttributes[key];\n",
              "  }\n",
              "  return element;\n",
              "}\n",
              "\n",
              "// Max number of bytes which will be uploaded at a time.\n",
              "const MAX_PAYLOAD_SIZE = 100 * 1024;\n",
              "\n",
              "function _uploadFiles(inputId, outputId) {\n",
              "  const steps = uploadFilesStep(inputId, outputId);\n",
              "  const outputElement = document.getElementById(outputId);\n",
              "  // Cache steps on the outputElement to make it available for the next call\n",
              "  // to uploadFilesContinue from Python.\n",
              "  outputElement.steps = steps;\n",
              "\n",
              "  return _uploadFilesContinue(outputId);\n",
              "}\n",
              "\n",
              "// This is roughly an async generator (not supported in the browser yet),\n",
              "// where there are multiple asynchronous steps and the Python side is going\n",
              "// to poll for completion of each step.\n",
              "// This uses a Promise to block the python side on completion of each step,\n",
              "// then passes the result of the previous step as the input to the next step.\n",
              "function _uploadFilesContinue(outputId) {\n",
              "  const outputElement = document.getElementById(outputId);\n",
              "  const steps = outputElement.steps;\n",
              "\n",
              "  const next = steps.next(outputElement.lastPromiseValue);\n",
              "  return Promise.resolve(next.value.promise).then((value) => {\n",
              "    // Cache the last promise value to make it available to the next\n",
              "    // step of the generator.\n",
              "    outputElement.lastPromiseValue = value;\n",
              "    return next.value.response;\n",
              "  });\n",
              "}\n",
              "\n",
              "/**\n",
              " * Generator function which is called between each async step of the upload\n",
              " * process.\n",
              " * @param {string} inputId Element ID of the input file picker element.\n",
              " * @param {string} outputId Element ID of the output display.\n",
              " * @return {!Iterable<!Object>} Iterable of next steps.\n",
              " */\n",
              "function* uploadFilesStep(inputId, outputId) {\n",
              "  const inputElement = document.getElementById(inputId);\n",
              "  inputElement.disabled = false;\n",
              "\n",
              "  const outputElement = document.getElementById(outputId);\n",
              "  outputElement.innerHTML = '';\n",
              "\n",
              "  const pickedPromise = new Promise((resolve) => {\n",
              "    inputElement.addEventListener('change', (e) => {\n",
              "      resolve(e.target.files);\n",
              "    });\n",
              "  });\n",
              "\n",
              "  const cancel = document.createElement('button');\n",
              "  inputElement.parentElement.appendChild(cancel);\n",
              "  cancel.textContent = 'Cancel upload';\n",
              "  const cancelPromise = new Promise((resolve) => {\n",
              "    cancel.onclick = () => {\n",
              "      resolve(null);\n",
              "    };\n",
              "  });\n",
              "\n",
              "  // Wait for the user to pick the files.\n",
              "  const files = yield {\n",
              "    promise: Promise.race([pickedPromise, cancelPromise]),\n",
              "    response: {\n",
              "      action: 'starting',\n",
              "    }\n",
              "  };\n",
              "\n",
              "  cancel.remove();\n",
              "\n",
              "  // Disable the input element since further picks are not allowed.\n",
              "  inputElement.disabled = true;\n",
              "\n",
              "  if (!files) {\n",
              "    return {\n",
              "      response: {\n",
              "        action: 'complete',\n",
              "      }\n",
              "    };\n",
              "  }\n",
              "\n",
              "  for (const file of files) {\n",
              "    const li = document.createElement('li');\n",
              "    li.append(span(file.name, {fontWeight: 'bold'}));\n",
              "    li.append(span(\n",
              "        `(${file.type || 'n/a'}) - ${file.size} bytes, ` +\n",
              "        `last modified: ${\n",
              "            file.lastModifiedDate ? file.lastModifiedDate.toLocaleDateString() :\n",
              "                                    'n/a'} - `));\n",
              "    const percent = span('0% done');\n",
              "    li.appendChild(percent);\n",
              "\n",
              "    outputElement.appendChild(li);\n",
              "\n",
              "    const fileDataPromise = new Promise((resolve) => {\n",
              "      const reader = new FileReader();\n",
              "      reader.onload = (e) => {\n",
              "        resolve(e.target.result);\n",
              "      };\n",
              "      reader.readAsArrayBuffer(file);\n",
              "    });\n",
              "    // Wait for the data to be ready.\n",
              "    let fileData = yield {\n",
              "      promise: fileDataPromise,\n",
              "      response: {\n",
              "        action: 'continue',\n",
              "      }\n",
              "    };\n",
              "\n",
              "    // Use a chunked sending to avoid message size limits. See b/62115660.\n",
              "    let position = 0;\n",
              "    do {\n",
              "      const length = Math.min(fileData.byteLength - position, MAX_PAYLOAD_SIZE);\n",
              "      const chunk = new Uint8Array(fileData, position, length);\n",
              "      position += length;\n",
              "\n",
              "      const base64 = btoa(String.fromCharCode.apply(null, chunk));\n",
              "      yield {\n",
              "        response: {\n",
              "          action: 'append',\n",
              "          file: file.name,\n",
              "          data: base64,\n",
              "        },\n",
              "      };\n",
              "\n",
              "      let percentDone = fileData.byteLength === 0 ?\n",
              "          100 :\n",
              "          Math.round((position / fileData.byteLength) * 100);\n",
              "      percent.textContent = `${percentDone}% done`;\n",
              "\n",
              "    } while (position < fileData.byteLength);\n",
              "  }\n",
              "\n",
              "  // All done.\n",
              "  yield {\n",
              "    response: {\n",
              "      action: 'complete',\n",
              "    }\n",
              "  };\n",
              "}\n",
              "\n",
              "scope.google = scope.google || {};\n",
              "scope.google.colab = scope.google.colab || {};\n",
              "scope.google.colab._files = {\n",
              "  _uploadFiles,\n",
              "  _uploadFilesContinue,\n",
              "};\n",
              "})(self);\n",
              "</script> "
            ]
          },
          "metadata": {}
        },
        {
          "output_type": "stream",
          "name": "stdout",
          "text": [
            "Saving Vídeo do WhatsApp de 2024-05-09 à(s) 18.31.11_7268a542.mp4 to Vídeo do WhatsApp de 2024-05-09 à(s) 18.31.11_7268a542 (1).mp4\n"
          ]
        }
      ],
      "source": [
        "if(tipo == ''):\n",
        "  print(\"Por favor clique em algum botão na seção anterior!\")\n",
        "elif(tipo == 'yt'):\n",
        "  video = input(\"Digite a url do vídeo do youtube\")\n",
        "  from pytube import YouTube\n",
        "  yt = YouTube(video)\n",
        "  video = yt.streams.first().download()\n",
        "else:\n",
        "  uploaded = files.upload()\n",
        "  #não precisaria usar o for aqui, mas não sei programar em python e isso funciona :)\n",
        "  for fn in uploaded.keys():\n",
        "    video = fn"
      ]
    },
    {
      "cell_type": "markdown",
      "source": [
        "Aqui o sistema envia para o Google as imagens obtidas nos frames. Como vídeos muito grandes estavam falhando, são selecionados apenas uma quantia de frames pequena para enviar.\n",
        "\n",
        "*@todo Dar um jeito de funcionar para mais frames*"
      ],
      "metadata": {
        "id": "cPs67gcHZ4OC"
      }
    },
    {
      "cell_type": "code",
      "execution_count": 53,
      "metadata": {
        "colab": {
          "base_uri": "https://localhost:8080/"
        },
        "id": "FliD0l2Q3WT1",
        "outputId": "4f046bb6-ee65-421a-b2af-530547fe7ef8"
      },
      "outputs": [
        {
          "output_type": "stream",
          "name": "stdout",
          "text": [
            "Extracting Vídeo do WhatsApp de 2024-05-09 à(s) 18.31.11_7268a542 (1).mp4 at 1 frame per second. This might take a bit...\n",
            "Completed video frame extraction!\n",
            "\n",
            "Extracted: 20 frames\n",
            "Uploading 20 files. This might take a bit...\n",
            "Uploading: /content/frames/Vídeo do WhatsApp de 2024-05-09 à(s) 18_31_11_7268a542 (1)_mp4_frame00:00.jpg...\n",
            "Uploading: /content/frames/Vídeo do WhatsApp de 2024-05-09 à(s) 18_31_11_7268a542 (1)_mp4_frame00:01.jpg...\n",
            "Uploading: /content/frames/Vídeo do WhatsApp de 2024-05-09 à(s) 18_31_11_7268a542 (1)_mp4_frame00:02.jpg...\n",
            "Uploading: /content/frames/Vídeo do WhatsApp de 2024-05-09 à(s) 18_31_11_7268a542 (1)_mp4_frame00:03.jpg...\n",
            "Uploading: /content/frames/Vídeo do WhatsApp de 2024-05-09 à(s) 18_31_11_7268a542 (1)_mp4_frame00:04.jpg...\n",
            "Uploading: /content/frames/Vídeo do WhatsApp de 2024-05-09 à(s) 18_31_11_7268a542 (1)_mp4_frame00:05.jpg...\n",
            "Uploading: /content/frames/Vídeo do WhatsApp de 2024-05-09 à(s) 18_31_11_7268a542 (1)_mp4_frame00:06.jpg...\n",
            "Uploading: /content/frames/Vídeo do WhatsApp de 2024-05-09 à(s) 18_31_11_7268a542 (1)_mp4_frame00:07.jpg...\n",
            "Uploading: /content/frames/Vídeo do WhatsApp de 2024-05-09 à(s) 18_31_11_7268a542 (1)_mp4_frame00:08.jpg...\n",
            "Uploading: /content/frames/Vídeo do WhatsApp de 2024-05-09 à(s) 18_31_11_7268a542 (1)_mp4_frame00:09.jpg...\n",
            "Uploading: /content/frames/Vídeo do WhatsApp de 2024-05-09 à(s) 18_31_11_7268a542 (1)_mp4_frame00:10.jpg...\n",
            "Uploading: /content/frames/Vídeo do WhatsApp de 2024-05-09 à(s) 18_31_11_7268a542 (1)_mp4_frame00:11.jpg...\n",
            "Uploading: /content/frames/Vídeo do WhatsApp de 2024-05-09 à(s) 18_31_11_7268a542 (1)_mp4_frame00:12.jpg...\n",
            "Uploading: /content/frames/Vídeo do WhatsApp de 2024-05-09 à(s) 18_31_11_7268a542 (1)_mp4_frame00:13.jpg...\n",
            "Uploading: /content/frames/Vídeo do WhatsApp de 2024-05-09 à(s) 18_31_11_7268a542 (1)_mp4_frame00:14.jpg...\n",
            "Uploading: /content/frames/Vídeo do WhatsApp de 2024-05-09 à(s) 18_31_11_7268a542 (1)_mp4_frame00:15.jpg...\n",
            "Uploading: /content/frames/Vídeo do WhatsApp de 2024-05-09 à(s) 18_31_11_7268a542 (1)_mp4_frame00:16.jpg...\n",
            "Uploading: /content/frames/Vídeo do WhatsApp de 2024-05-09 à(s) 18_31_11_7268a542 (1)_mp4_frame00:17.jpg...\n",
            "Uploading: /content/frames/Vídeo do WhatsApp de 2024-05-09 à(s) 18_31_11_7268a542 (1)_mp4_frame00:18.jpg...\n",
            "Uploading: /content/frames/Vídeo do WhatsApp de 2024-05-09 à(s) 18_31_11_7268a542 (1)_mp4_frame00:19.jpg...\n",
            "Completed file uploads!\n",
            "\n",
            "Uploaded: 20 files\n"
          ]
        }
      ],
      "source": [
        "class File:\n",
        "  def __init__(self, file_path: str, display_name: str = None):\n",
        "    self.file_path = file_path\n",
        "    if display_name:\n",
        "      self.display_name = display_name\n",
        "    self.timestamp = get_timestamp(file_path)\n",
        "\n",
        "  def set_file_response(self, response):\n",
        "    self.response = response\n",
        "\n",
        "def get_timestamp(filename):\n",
        "  \"\"\"Extracts the frame count (as an integer) from a filename with the format\n",
        "     'output_file_prefix_frame00:00.jpg'.\n",
        "  \"\"\"\n",
        "  parts = filename.split(FRAME_PREFIX)\n",
        "  if len(parts) != 2:\n",
        "      return None  # Indicates the filename might be incorrectly formatted\n",
        "  return parts[1].split('.')[0]\n",
        "\n",
        "#Chama a função de extração de frames\n",
        "extract_frame_from_video(video)\n",
        "\n",
        "# Process each frame in the output directory\n",
        "files = os.listdir(FRAME_EXTRACTION_DIRECTORY)\n",
        "files = sorted(files)\n",
        "files_to_upload = []\n",
        "for file in files:\n",
        "  files_to_upload.append(\n",
        "      File(file_path=os.path.join(FRAME_EXTRACTION_DIRECTORY, file)))\n",
        "\n",
        "# Upload the files to the API\n",
        "# Only upload a {max_frames} second slice of files to reduce upload time.\n",
        "# Change full_video to True to upload the whole video.\n",
        "full_video = False\n",
        "max_frames = 20\n",
        "\n",
        "uploaded_files = []\n",
        "print(f'Uploading {len(files_to_upload) if full_video else max_frames} files. This might take a bit...')\n",
        "\n",
        "for file in files_to_upload if full_video else files_to_upload[0:max_frames]:\n",
        "  print(f'Uploading: {file.file_path}...')\n",
        "  response = genai.upload_file(path=file.file_path)\n",
        "  file.set_file_response(response)\n",
        "  uploaded_files.append(file)\n",
        "\n",
        "print(f\"Completed file uploads!\\n\\nUploaded: {len(uploaded_files)} files\")"
      ]
    },
    {
      "cell_type": "markdown",
      "source": [
        "Aqui começamos a utilizar a IA!!!\n",
        "\n",
        "Primeiramente fazemos uma descrição do vídeo, baseado nos frames enviados (apenas as imagens) e armazenamos a resposta"
      ],
      "metadata": {
        "id": "25ncB4Pmayh0"
      }
    },
    {
      "cell_type": "code",
      "execution_count": 54,
      "metadata": {
        "id": "JHqfS7uO4tNG"
      },
      "outputs": [],
      "source": [
        "# Create the prompt.\n",
        "prompt = \"Descreva o vídeo no idioma nativo do vídeo\"\n",
        "\n",
        "# Set the model to Gemini 1.5 Pro.\n",
        "model = genai.GenerativeModel(model_name=\"models/gemini-1.5-pro-latest\")\n",
        "\n",
        "# Make GenerateContent request with the structure described above.\n",
        "def make_request(prompt, files):\n",
        "  request = [prompt]\n",
        "  for file in files:\n",
        "    request.append(file.timestamp)\n",
        "    request.append(file.response)\n",
        "  return request\n",
        "\n",
        "# Make the LLM request.\n",
        "request = make_request(prompt, uploaded_files)\n",
        "response_video = model.generate_content(request,\n",
        "                                  request_options={\"timeout\": 600})"
      ]
    },
    {
      "cell_type": "markdown",
      "source": [
        "Agora extraímos o áudio do vídeo e armazenamos num mp3"
      ],
      "metadata": {
        "id": "kRob83sXcRE8"
      }
    },
    {
      "cell_type": "code",
      "execution_count": 55,
      "metadata": {
        "colab": {
          "base_uri": "https://localhost:8080/"
        },
        "id": "BZD_vJvT8iYw",
        "outputId": "9819fda2-bd47-4e31-83a0-9561cc1dfdaa"
      },
      "outputs": [
        {
          "output_type": "stream",
          "name": "stdout",
          "text": [
            "MoviePy - Writing audio in audio.mp3\n"
          ]
        },
        {
          "output_type": "stream",
          "name": "stderr",
          "text": []
        },
        {
          "output_type": "stream",
          "name": "stdout",
          "text": [
            "MoviePy - Done.\n",
            "Audio extraction successful!\n"
          ]
        }
      ],
      "source": [
        "from moviepy.editor import VideoFileClip\n",
        "\n",
        "# Define the input video file and output audio file\n",
        "mp3_file = \"audio.mp3\"\n",
        "\n",
        "# Load the video clip\n",
        "#video_clip = VideoFileClip(yt)\n",
        "video_clip = VideoFileClip(video)\n",
        "\n",
        "# Extract the audio from the video clip\n",
        "audio_clip = video_clip.audio\n",
        "\n",
        "# Write the audio to a separate file\n",
        "audio_clip.write_audiofile(mp3_file)\n",
        "\n",
        "# Close the video and audio clips\n",
        "audio_clip.close()\n",
        "video_clip.close()\n",
        "\n",
        "print(\"Audio extraction successful!\")\n",
        "response_mp3 = genai.upload_file(mp3_file)"
      ]
    },
    {
      "cell_type": "markdown",
      "source": [
        "Utilizando o MP3 gerado, e a técnica de FEW-SHOTS ensinada nas aulas,  realizamos a transcrição do áudio seguindo o padrão desejado"
      ],
      "metadata": {
        "id": "NofUmgY0ccez"
      }
    },
    {
      "cell_type": "code",
      "execution_count": 56,
      "metadata": {
        "id": "LleiIogE-ovq"
      },
      "outputs": [],
      "source": [
        "prompt = {\"exemplos\":[{\n",
        "      \"tempo\":\"00:00 - 00:10\",\n",
        "      \"autor\":\"mulher 1\",\n",
        "      \"audio\":\"Estou muito contente hoje\"\n",
        "    },\n",
        "    {\n",
        "      \"tempo\":\"00:00 - 00:10\",\n",
        "      \"autor\":\"som ambiente\",\n",
        "      \"audio\":\"*barulho de passarinhos*\"\n",
        "    },\n",
        "    {\n",
        "      \"tempo\":\"00:11 - 00:20\",\n",
        "      \"autor\":\"Homem 1\",\n",
        "      \"audio\":\"Que bom, também estou muito contente\"\n",
        "    }\n",
        "          ]}\n",
        "exemplos = json.dumps(prompt)\n",
        "#como eu quero uma transcrição precisa, sem criatividade, vou deixar com temperatura 0\n",
        "generation_config = {\n",
        "  \"temperature\": 0,\n",
        "  \"response_mime_type\": \"application/json\",\n",
        "}\n",
        "response_audio = model.generate_content([\"Transcreva o áudio em json conforme o exemplo: \"+exemplos, response_mp3],\n",
        "                                  request_options={\"timeout\": 600}, generation_config=generation_config)"
      ]
    },
    {
      "cell_type": "markdown",
      "source": [
        "Utilizando novamente a técnica de FEW-SHOTS, vamos agora juntar áudio e vídeo para classificar o texto, contextualizar, definir um assunto, um level de periculosidade, já estimar uma probabilidade de ser uma notícia falsa e elencar sites confiáveis para buscar a informação.\n",
        "\n",
        "Muitos destes dados poderão ser atualizados quando for realizada uma busca no Google, se o Custom Search foi criado.\n",
        "\n",
        "Um sistema ou rede social poderia encerrar neste momento os dados para moderar os vídeos com alta probabilidade de serem falsos"
      ],
      "metadata": {
        "id": "VvD0fbR-dKKB"
      }
    },
    {
      "cell_type": "code",
      "execution_count": 57,
      "metadata": {
        "id": "PNaeVltCALKc"
      },
      "outputs": [],
      "source": [
        "model_simples = genai.GenerativeModel(model_name=\"gemini-1.5-pro-latest\")\n",
        "exemplos = [{\n",
        "    \"assunto\":\"Mulher explicando como fazer um bolo de chocolate\",\n",
        "    \"periculosidade_divulgacao\":\"1/10\",\n",
        "    \"justificativa_periculosidade\":\"Não há riscos envolvidos em se acreditar numa receita de bolo de chocolate\",\n",
        "    \"prompt_google\":\"Receita bolo de chocolate\",\n",
        "    \"probabilidade_fake_news\":\"1%\",\n",
        "    \"justificativa_probabilidade_fake_news\":\"Este vídeo aparentemente não é uma fake new, pois além de se tratar de um assunto costumeiro e sem relevância, é totalmente plausível que uma mulher faça bolo de chocolate da forma como apresentado\",\n",
        "    \"recomendavel_buscar_fontes\":False,\n",
        "    \"sugestao_sites_busca\":[\"https://tudogostoso.com.br\", \"https://www.receitasnestle.com.br/\"]\n",
        "},\n",
        "{\n",
        "    \"assunto\":\"Homem narrando invasão alienígena\",\n",
        "    \"periculosidade_divulgacao\":\"5/10\",\n",
        "    \"justificativa_periculosidade\":\"Há riscos em se acreditar nisso, pois poderia causar pânico desnecessariamente, embora seja provável que a maior parte da população não acredite. Não compartilhe este link sem ter certeza de fontes confiáveis\",\n",
        "    \"prompt_google\":\"Invasão alienígena - notícia\",\n",
        "    \"probabilidade_fake_news\":\"99%\",\n",
        "    \"justificativa_probabilidade_fake_news\":\"Este vídeo aparentemente é uma fake new, pois é extremamente improvável que uma invasão alienígena esteja ocorrendo\",\n",
        "    \"recomendavel_buscar_fontes\":True,\n",
        "    \"sugestao_sites_busca\":[\"https://g1.globo.com/\", \"https://noticias.uol.com.br/\", \"https://www.cnnbrasil.com.br/\"]\n",
        "},\n",
        "{\n",
        "    \"assunto\":\"Homem descrevendo remédio milagroso para curar a Covid\",\n",
        "    \"periculosidade_divulgacao\":\"9/10\",\n",
        "    \"justificativa_periculosidade\":\"Há um extremo risco em se acreditar nisso sem fontes confiáveis, pois impede que portadores da doença se tratem corretamente. Não compartilhe este link sem ter certeza de fontes confiáveis\",\n",
        "    \"prompt_google\":\"Covid tratamento e recomendações\",\n",
        "    \"probabilidade_fake_news\":\"95%\",\n",
        "    \"justificativa_probabilidade_fake_news\":\"Este vídeo provavelmente é uma fake new, pois não há registros ou estudos comprovados deste remédio na cura da Covid\",\n",
        "    \"recomendavel_buscar_fontes\":True,\n",
        "    \"sugestao_sites_busca\":[\"https://covid.saude.gov.br/\", \"https://www.gov.br/saude/pt-br/assuntos/covid-19\", \"https://www.who.int/emergencies/diseases/novel-coronavirus-2019\"]\n",
        "}\n",
        "]\n",
        "#convert o json em texto\n",
        "exemplos = json.dumps(exemplos)\n",
        "\n",
        "#Escolhi a temperatura de 0.3 para os dados serem ligeiramente criativos, mas evitando alucinações\n",
        "generation_config = {\n",
        "  \"temperature\": 0.3,\n",
        "  \"top_p\": 0.95,\n",
        "  \"top_k\": 0,\n",
        "  \"response_mime_type\": \"application/json\",\n",
        "}\n",
        "#prompt = \"Dado o vídeo \"+yt+\" com a seguinte descrição das imagens: \"+response_video.text+\"e a seguinte transcrição do áudio: \"+response_audio.text+ \",  responda conforme o exemplo: \"+exemplos\n",
        "prompt = \"Dado o vídeo \"+video+\" com a seguinte descrição das imagens: \"+response_video.text+\"e a seguinte transcrição do áudio: \"+response_audio.text+ \",  responda conforme o exemplo: \"+exemplos\n",
        "response_json = model.generate_content(prompt, generation_config=generation_config)\n",
        "\n",
        "#convert o texto em json\n",
        "json_test = json.loads(response_json.text)"
      ]
    },
    {
      "cell_type": "markdown",
      "source": [
        "Hora de buscar fontes recentes sobre a notícia ou tópico do vídeo. A inteligência artifical fica assim mais precisa pois tem fontes em tempo real.\n",
        "\n",
        "É interessante ressaltar que com o Custom Search é possível criar Whitelist de fontes confiáveis ou Blacklists de fontes não confiáveis. Mas cuidado para isso não tornar o software enviesado em suas respostas! Quanto mais fontes confiáveis melhor.\n",
        "\n",
        "# Importante\n",
        "\n",
        "A API de busca do Google (Custom Search) permite apenas 100 buscas por dia no nível gratuíto. É mais do que o suficiente para testes, mas não é possível utilizar como um produto desta maneira."
      ],
      "metadata": {
        "id": "7gCTt6OkewhU"
      }
    },
    {
      "cell_type": "code",
      "execution_count": 58,
      "metadata": {
        "id": "d8IyFOfGaHBv"
      },
      "outputs": [],
      "source": [
        "buscar_google = True\n",
        "try:\n",
        "  api_key = GOOGLE_API_KEY\n",
        "  cx = GOOGLE_CX\n",
        "except NameError:\n",
        "  buscar_google = False\n",
        "\n",
        "if buscar_google:\n",
        "  import requests\n",
        "\n",
        "  query = json_test[0]['prompt_google']\n",
        "\n",
        "  url = f\"https://www.googleapis.com/customsearch/v1?key={api_key}&cx={cx}&q={query}\"\n",
        "  response = requests.get(url)\n",
        "  data = json.loads(response.text)\n",
        "\n",
        "  # Check for errors or empty search results\n",
        "  if 'error' in data:\n",
        "      print(\"Error:\", data['error']['message'])\n",
        "  elif 'items' not in data:\n",
        "      print(\"No search results found.\")"
      ]
    },
    {
      "cell_type": "markdown",
      "source": [
        "Aqui tabulamos e reduzimos os resultados vindos da API do Google para reduzir o número de tokens gerados para o Gemini"
      ],
      "metadata": {
        "id": "aq3r2bLXhL3K"
      }
    },
    {
      "cell_type": "code",
      "execution_count": 59,
      "metadata": {
        "id": "q75ejCgulhbZ"
      },
      "outputs": [],
      "source": [
        "if buscar_google:\n",
        "  # Extract search results\n",
        "  search_results = data['items']\n",
        "  results_google = []\n",
        "\n",
        "  for result in search_results:\n",
        "      title = result['title']\n",
        "      link = result['link']\n",
        "      snippet = result['snippet']\n",
        "      results_google.append({'Title': title, 'Link': link, 'Snippet': snippet})\n",
        "\n",
        "  results_google_json = json.dumps(results_google)"
      ]
    },
    {
      "cell_type": "markdown",
      "source": [
        "Hora de gerar uma conclusão sobre os dados, usando o json e a busca realizada no Google. Exibimos a conclusão para o usuário e as recomendações."
      ],
      "metadata": {
        "id": "lM8z-NzgicT-"
      }
    },
    {
      "cell_type": "code",
      "execution_count": 61,
      "metadata": {
        "id": "EG_0odgmShPj",
        "colab": {
          "base_uri": "https://localhost:8080/",
          "height": 488
        },
        "outputId": "cdf23a23-e011-4cf8-8822-006ee5fb3ea0"
      },
      "outputs": [
        {
          "output_type": "stream",
          "name": "stdout",
          "text": [
            "## Análise do vídeo: Homem falando sobre os perigos da vacina\n",
            "\n",
            "**Periculosidade da Divulgação:** 9/10 -  Compartilhar este vídeo sem fontes confiáveis é extremamente arriscado, pois pode dissuadir pessoas de se vacinarem e se protegerem de doenças graves. \n",
            "\n",
            "**Probabilidade de Fake News:** 99% -  As vacinas são amplamente estudadas e comprovadas como seguras e eficazes por órgãos de saúde em todo o mundo. Portanto, este vídeo provavelmente contém informações falsas ou distorcidas.\n",
            "\n",
            "**Recomendação:** **Não compartilhe este vídeo**. \n",
            "\n",
            "**Fontes Confiáveis para se Aproximar do Assunto:**\n",
            "\n",
            "* **Governo Federal - Ministério da Saúde:** https://www.gov.br/saude/pt-br\n",
            "* **Organização Mundial da Saúde (OMS):** https://www.who.int/en/\n",
            "* **Centro de Controle e Prevenção de Doenças (CDC - EUA):** https://www.cdc.gov/\n",
            "* **CNN Brasil - Notícias sobre Vacinação:** https://www.cnnbrasil.com.br/tudo-sobre/vacina/\n",
            "* **Governo do Estado de São Paulo - Notícias sobre Vacina:** https://www.saopaulo.sp.gov.br/noticias-vacina/\n",
            "* **Exame - Notícias sobre Vacinas:** https://exame.com/noticias-sobre/vacinas/\n",
            "\n",
            "**Recomendações para Pesquisas:**\n",
            "\n",
            "* **Sempre verifique a fonte da informação:**  Procure informações em sites de órgãos de saúde, instituições de pesquisa ou veículos de comunicação confiáveis.\n",
            "* **Cuidado com títulos sensacionalistas e informações alarmantes:**  Fake news geralmente usam esse tipo de linguagem para chamar atenção.\n",
            "* **Verifique se a informação é corroborada por outras fontes:**  Se apenas um site ou pessoa está divulgando determinada informação, desconfie.\n",
            "* **Consulte profissionais de saúde:** Em caso de dúvidas, converse com um médico ou outro profissional de saúde qualificado. \n",
            "\n",
            "Lembre-se, a vacinação é uma das medidas de saúde pública mais eficazes e seguras que temos. Vacine-se e proteja-se! \n",
            "\n"
          ]
        }
      ],
      "source": [
        "texto_busca_google = \" e os resultados do Google sobre o assunto: \"+results_google_json if buscar_google else \"\"\n",
        "conclusao_request = \"Dado o seguinte json: \"+response_json.text+texto_busca_google+\", que especifica a probabilidade de um vídeo enviado ser uma fake new. Caso sejam encontradas fontes confiáveis nos resultados do google, altere as informações do json para condizer com o encontrado antes de informar ao usuário. Redija um texto para o usuário citando todos os dados do json atualizado, links para se aprofundar no assunto - incluindo os links encontrados do google, recomendações sobre pesquisas e se deve compartilhar ou não o vídeo.\"\n",
        "response_conclusao = model.generate_content(conclusao_request)\n",
        "print(response_conclusao.text)"
      ]
    },
    {
      "cell_type": "markdown",
      "source": [
        "Ao fim, excluir todas as imagens e áudios enviados para a IA"
      ],
      "metadata": {
        "id": "z645pjZeizax"
      }
    },
    {
      "cell_type": "code",
      "execution_count": 62,
      "metadata": {
        "colab": {
          "base_uri": "https://localhost:8080/",
          "height": 471
        },
        "id": "Jk19lvK85idG",
        "outputId": "0592a57e-d8ed-4db5-fdef-ed8865ebdbbd"
      },
      "outputs": [
        {
          "output_type": "stream",
          "name": "stdout",
          "text": [
            "Deleting 20 images. This might take a bit...\n",
            "Deleted /content/frames/Vídeo do WhatsApp de 2024-05-09 à(s) 18_31_11_7268a542 (1)_mp4_frame00:00.jpg at URI https://generativelanguage.googleapis.com/v1beta/files/es5v6lj20pju\n",
            "Deleted /content/frames/Vídeo do WhatsApp de 2024-05-09 à(s) 18_31_11_7268a542 (1)_mp4_frame00:01.jpg at URI https://generativelanguage.googleapis.com/v1beta/files/kbzn69n01iis\n",
            "Deleted /content/frames/Vídeo do WhatsApp de 2024-05-09 à(s) 18_31_11_7268a542 (1)_mp4_frame00:02.jpg at URI https://generativelanguage.googleapis.com/v1beta/files/7i0v22mn61bz\n",
            "Deleted /content/frames/Vídeo do WhatsApp de 2024-05-09 à(s) 18_31_11_7268a542 (1)_mp4_frame00:03.jpg at URI https://generativelanguage.googleapis.com/v1beta/files/q1xewoncko2o\n",
            "Deleted /content/frames/Vídeo do WhatsApp de 2024-05-09 à(s) 18_31_11_7268a542 (1)_mp4_frame00:04.jpg at URI https://generativelanguage.googleapis.com/v1beta/files/t8hgm6r3nxil\n",
            "Deleted /content/frames/Vídeo do WhatsApp de 2024-05-09 à(s) 18_31_11_7268a542 (1)_mp4_frame00:05.jpg at URI https://generativelanguage.googleapis.com/v1beta/files/5b283984kdpe\n",
            "Deleted /content/frames/Vídeo do WhatsApp de 2024-05-09 à(s) 18_31_11_7268a542 (1)_mp4_frame00:06.jpg at URI https://generativelanguage.googleapis.com/v1beta/files/l3pnm3p3ebla\n",
            "Deleted /content/frames/Vídeo do WhatsApp de 2024-05-09 à(s) 18_31_11_7268a542 (1)_mp4_frame00:07.jpg at URI https://generativelanguage.googleapis.com/v1beta/files/jusw8j42laec\n",
            "Deleted /content/frames/Vídeo do WhatsApp de 2024-05-09 à(s) 18_31_11_7268a542 (1)_mp4_frame00:08.jpg at URI https://generativelanguage.googleapis.com/v1beta/files/dn82kks6c0l0\n",
            "Deleted /content/frames/Vídeo do WhatsApp de 2024-05-09 à(s) 18_31_11_7268a542 (1)_mp4_frame00:09.jpg at URI https://generativelanguage.googleapis.com/v1beta/files/kfbaasiajqlr\n",
            "Deleted /content/frames/Vídeo do WhatsApp de 2024-05-09 à(s) 18_31_11_7268a542 (1)_mp4_frame00:10.jpg at URI https://generativelanguage.googleapis.com/v1beta/files/ivv5bxsffxe2\n",
            "Deleted /content/frames/Vídeo do WhatsApp de 2024-05-09 à(s) 18_31_11_7268a542 (1)_mp4_frame00:11.jpg at URI https://generativelanguage.googleapis.com/v1beta/files/d9d1qdhpl72f\n",
            "Deleted /content/frames/Vídeo do WhatsApp de 2024-05-09 à(s) 18_31_11_7268a542 (1)_mp4_frame00:12.jpg at URI https://generativelanguage.googleapis.com/v1beta/files/3cc7fr3akmae\n",
            "Deleted /content/frames/Vídeo do WhatsApp de 2024-05-09 à(s) 18_31_11_7268a542 (1)_mp4_frame00:13.jpg at URI https://generativelanguage.googleapis.com/v1beta/files/8wxfgejm1eqe\n",
            "Deleted /content/frames/Vídeo do WhatsApp de 2024-05-09 à(s) 18_31_11_7268a542 (1)_mp4_frame00:14.jpg at URI https://generativelanguage.googleapis.com/v1beta/files/1fb798mxctr0\n",
            "Deleted /content/frames/Vídeo do WhatsApp de 2024-05-09 à(s) 18_31_11_7268a542 (1)_mp4_frame00:15.jpg at URI https://generativelanguage.googleapis.com/v1beta/files/trzi39ck5vvo\n",
            "Deleted /content/frames/Vídeo do WhatsApp de 2024-05-09 à(s) 18_31_11_7268a542 (1)_mp4_frame00:16.jpg at URI https://generativelanguage.googleapis.com/v1beta/files/9u44kokfem5\n",
            "Deleted /content/frames/Vídeo do WhatsApp de 2024-05-09 à(s) 18_31_11_7268a542 (1)_mp4_frame00:17.jpg at URI https://generativelanguage.googleapis.com/v1beta/files/mqlq97avgjd0\n",
            "Deleted /content/frames/Vídeo do WhatsApp de 2024-05-09 à(s) 18_31_11_7268a542 (1)_mp4_frame00:18.jpg at URI https://generativelanguage.googleapis.com/v1beta/files/70z733i4mr1b\n",
            "Deleted /content/frames/Vídeo do WhatsApp de 2024-05-09 à(s) 18_31_11_7268a542 (1)_mp4_frame00:19.jpg at URI https://generativelanguage.googleapis.com/v1beta/files/xdllfhc52ryj\n",
            "Deleted <google.generativeai.types.file_types.File object at 0x7f71cc0cfa60>\n",
            "Completed deleting files!\n",
            "\n",
            "Deleted: 20 files\n"
          ]
        }
      ],
      "source": [
        "delete_files()"
      ]
    }
  ],
  "metadata": {
    "colab": {
      "provenance": [],
      "authorship_tag": "ABX9TyNntsPqUKUacc+yMbJzAiU4",
      "include_colab_link": true
    },
    "kernelspec": {
      "display_name": "Python 3",
      "name": "python3"
    },
    "language_info": {
      "name": "python"
    },
    "widgets": {
      "application/vnd.jupyter.widget-state+json": {
        "d1644ea9b1a348f7a7d712384b0ded18": {
          "model_module": "@jupyter-widgets/controls",
          "model_name": "ButtonModel",
          "model_module_version": "1.5.0",
          "state": {
            "_dom_classes": [],
            "_model_module": "@jupyter-widgets/controls",
            "_model_module_version": "1.5.0",
            "_model_name": "ButtonModel",
            "_view_count": null,
            "_view_module": "@jupyter-widgets/controls",
            "_view_module_version": "1.5.0",
            "_view_name": "ButtonView",
            "button_style": "danger",
            "description": "Link do vídeo (youtube)",
            "disabled": false,
            "icon": "youtube",
            "layout": "IPY_MODEL_bc54b54bcd6f4a60b49c183c1b61815b",
            "style": "IPY_MODEL_16111e532aab4ad6bdc2b328ac843f91",
            "tooltip": ""
          }
        },
        "bc54b54bcd6f4a60b49c183c1b61815b": {
          "model_module": "@jupyter-widgets/base",
          "model_name": "LayoutModel",
          "model_module_version": "1.2.0",
          "state": {
            "_model_module": "@jupyter-widgets/base",
            "_model_module_version": "1.2.0",
            "_model_name": "LayoutModel",
            "_view_count": null,
            "_view_module": "@jupyter-widgets/base",
            "_view_module_version": "1.2.0",
            "_view_name": "LayoutView",
            "align_content": null,
            "align_items": null,
            "align_self": null,
            "border": null,
            "bottom": null,
            "display": null,
            "flex": null,
            "flex_flow": null,
            "grid_area": null,
            "grid_auto_columns": null,
            "grid_auto_flow": null,
            "grid_auto_rows": null,
            "grid_column": null,
            "grid_gap": null,
            "grid_row": null,
            "grid_template_areas": null,
            "grid_template_columns": null,
            "grid_template_rows": null,
            "height": null,
            "justify_content": null,
            "justify_items": null,
            "left": null,
            "margin": null,
            "max_height": null,
            "max_width": null,
            "min_height": null,
            "min_width": null,
            "object_fit": null,
            "object_position": null,
            "order": null,
            "overflow": null,
            "overflow_x": null,
            "overflow_y": null,
            "padding": null,
            "right": null,
            "top": null,
            "visibility": null,
            "width": null
          }
        },
        "16111e532aab4ad6bdc2b328ac843f91": {
          "model_module": "@jupyter-widgets/controls",
          "model_name": "ButtonStyleModel",
          "model_module_version": "1.5.0",
          "state": {
            "_model_module": "@jupyter-widgets/controls",
            "_model_module_version": "1.5.0",
            "_model_name": "ButtonStyleModel",
            "_view_count": null,
            "_view_module": "@jupyter-widgets/base",
            "_view_module_version": "1.2.0",
            "_view_name": "StyleView",
            "button_color": null,
            "font_weight": ""
          }
        },
        "88cfb244527c4cb89e0aabee7a248e75": {
          "model_module": "@jupyter-widgets/output",
          "model_name": "OutputModel",
          "model_module_version": "1.0.0",
          "state": {
            "_dom_classes": [],
            "_model_module": "@jupyter-widgets/output",
            "_model_module_version": "1.0.0",
            "_model_name": "OutputModel",
            "_view_count": null,
            "_view_module": "@jupyter-widgets/output",
            "_view_module_version": "1.0.0",
            "_view_name": "OutputView",
            "layout": "IPY_MODEL_151ced1f2ed04f529eb96fe984824806",
            "msg_id": "",
            "outputs": []
          }
        },
        "151ced1f2ed04f529eb96fe984824806": {
          "model_module": "@jupyter-widgets/base",
          "model_name": "LayoutModel",
          "model_module_version": "1.2.0",
          "state": {
            "_model_module": "@jupyter-widgets/base",
            "_model_module_version": "1.2.0",
            "_model_name": "LayoutModel",
            "_view_count": null,
            "_view_module": "@jupyter-widgets/base",
            "_view_module_version": "1.2.0",
            "_view_name": "LayoutView",
            "align_content": null,
            "align_items": null,
            "align_self": null,
            "border": null,
            "bottom": null,
            "display": null,
            "flex": null,
            "flex_flow": null,
            "grid_area": null,
            "grid_auto_columns": null,
            "grid_auto_flow": null,
            "grid_auto_rows": null,
            "grid_column": null,
            "grid_gap": null,
            "grid_row": null,
            "grid_template_areas": null,
            "grid_template_columns": null,
            "grid_template_rows": null,
            "height": null,
            "justify_content": null,
            "justify_items": null,
            "left": null,
            "margin": null,
            "max_height": null,
            "max_width": null,
            "min_height": null,
            "min_width": null,
            "object_fit": null,
            "object_position": null,
            "order": null,
            "overflow": null,
            "overflow_x": null,
            "overflow_y": null,
            "padding": null,
            "right": null,
            "top": null,
            "visibility": null,
            "width": null
          }
        },
        "f1ee48350590440e92956d091064b0a0": {
          "model_module": "@jupyter-widgets/controls",
          "model_name": "ButtonModel",
          "model_module_version": "1.5.0",
          "state": {
            "_dom_classes": [],
            "_model_module": "@jupyter-widgets/controls",
            "_model_module_version": "1.5.0",
            "_model_name": "ButtonModel",
            "_view_count": null,
            "_view_module": "@jupyter-widgets/controls",
            "_view_module_version": "1.5.0",
            "_view_name": "ButtonView",
            "button_style": "info",
            "description": "Upload de vídeo",
            "disabled": false,
            "icon": "upload",
            "layout": "IPY_MODEL_1541ee067128489f81247e13cb03069e",
            "style": "IPY_MODEL_f57f8e89ad6e40708269b20ceec69586",
            "tooltip": ""
          }
        },
        "1541ee067128489f81247e13cb03069e": {
          "model_module": "@jupyter-widgets/base",
          "model_name": "LayoutModel",
          "model_module_version": "1.2.0",
          "state": {
            "_model_module": "@jupyter-widgets/base",
            "_model_module_version": "1.2.0",
            "_model_name": "LayoutModel",
            "_view_count": null,
            "_view_module": "@jupyter-widgets/base",
            "_view_module_version": "1.2.0",
            "_view_name": "LayoutView",
            "align_content": null,
            "align_items": null,
            "align_self": null,
            "border": null,
            "bottom": null,
            "display": null,
            "flex": null,
            "flex_flow": null,
            "grid_area": null,
            "grid_auto_columns": null,
            "grid_auto_flow": null,
            "grid_auto_rows": null,
            "grid_column": null,
            "grid_gap": null,
            "grid_row": null,
            "grid_template_areas": null,
            "grid_template_columns": null,
            "grid_template_rows": null,
            "height": null,
            "justify_content": null,
            "justify_items": null,
            "left": null,
            "margin": null,
            "max_height": null,
            "max_width": null,
            "min_height": null,
            "min_width": null,
            "object_fit": null,
            "object_position": null,
            "order": null,
            "overflow": null,
            "overflow_x": null,
            "overflow_y": null,
            "padding": null,
            "right": null,
            "top": null,
            "visibility": null,
            "width": null
          }
        },
        "f57f8e89ad6e40708269b20ceec69586": {
          "model_module": "@jupyter-widgets/controls",
          "model_name": "ButtonStyleModel",
          "model_module_version": "1.5.0",
          "state": {
            "_model_module": "@jupyter-widgets/controls",
            "_model_module_version": "1.5.0",
            "_model_name": "ButtonStyleModel",
            "_view_count": null,
            "_view_module": "@jupyter-widgets/base",
            "_view_module_version": "1.2.0",
            "_view_name": "StyleView",
            "button_color": null,
            "font_weight": ""
          }
        }
      }
    }
  },
  "nbformat": 4,
  "nbformat_minor": 0
}