{
  "cells": [
    {
      "cell_type": "markdown",
      "metadata": {
        "id": "view-in-github",
        "colab_type": "text"
      },
      "source": [
        "<a href=\"https://colab.research.google.com/github/guilherme-mantovani/FakeNewsDetector/blob/main/FakeNewsDetector.ipynb\" target=\"_parent\"><img src=\"https://colab.research.google.com/assets/colab-badge.svg\" alt=\"Open In Colab\"/></a>"
      ]
    },
    {
      "cell_type": "markdown",
      "source": [
        "## Instalando bibliotecas"
      ],
      "metadata": {
        "id": "lhZP0nsA_9eA"
      }
    },
    {
      "cell_type": "code",
      "execution_count": 11,
      "metadata": {
        "colab": {
          "base_uri": "https://localhost:8080/"
        },
        "id": "5qVy1WA9qjr-",
        "outputId": "e33d7b71-4780-4e34-ac1a-c9401a518c50"
      },
      "outputs": [
        {
          "output_type": "stream",
          "name": "stdout",
          "text": [
            "\u001b[?25l     \u001b[90m━━━━━━━━━━━━━━━━━━━━━━━━━━━━━━━━━━━━━━━━\u001b[0m \u001b[32m0.0/57.6 kB\u001b[0m \u001b[31m?\u001b[0m eta \u001b[36m-:--:--\u001b[0m\r\u001b[2K     \u001b[90m━━━━━━━━━━━━━━━━━━━━━━━━━━━━━━━━━━━━━━━━\u001b[0m \u001b[32m57.6/57.6 kB\u001b[0m \u001b[31m2.1 MB/s\u001b[0m eta \u001b[36m0:00:00\u001b[0m\n",
            "\u001b[?25h"
          ]
        }
      ],
      "source": [
        "#Para ler vídeo do youtube\n",
        "!pip install -q -U pytube\n",
        "\n",
        "#Gemini\n",
        "!pip install -q -U google-generativeai\n",
        "\n",
        "#extração de áudio\n",
        "!pip install -q -U moviepy"
      ]
    },
    {
      "cell_type": "markdown",
      "source": [
        "## Importando bibliotecas principais e configurando credenciais\n",
        "\n",
        "Para salvar as credenciais do google, está sendo utilizada a função Secrets, que fica aqui à esquerda ⬅\n",
        "\n",
        "Crie uma secret com nome GOOGLE_API_KEY com a key de acesso ao gemini, e outra GOOGLE_CX com o id da busca customizada gerada conforme a explicação abaixo:\n",
        "\n",
        "**# Importante**\n",
        "\n",
        "**Para este projeto, é altamente recomendável ativar na mesma chave utilizada para o Gemini o produto Custom search API**\n",
        "\n",
        "Segui o tutorial descrito em: https://drlee.io/build-your-own-google-create-a-custom-search-engine-with-trusted-sources-c1c113e845cc\n",
        "\n",
        "Para facilitar, se esta chave não estiver cadastrada, o programa ainda irá funcionar, mas não há garantias de fontes reais atuais de informação, com o link de onde a notícia pode ser encontrada, o que deixa a utilidade bem inferior e menos impressionante"
      ],
      "metadata": {
        "id": "16YKwYFbAxLU"
      }
    },
    {
      "cell_type": "code",
      "execution_count": 19,
      "metadata": {
        "id": "zRc7FVYxsdcz"
      },
      "outputs": [],
      "source": [
        "import google.generativeai as genai\n",
        "import json\n",
        "import os\n",
        "\n",
        "from google.colab import userdata\n",
        "#armazenando em uma variável pois será reutilizado para API de busca\n",
        "GOOGLE_API_KEY = userdata.get('GOOGLE_API_KEY')\n",
        "GOOGLE_CX = userdata.get('GOOGLE_CX')\n",
        "genai.configure(api_key=GOOGLE_API_KEY)"
      ]
    },
    {
      "cell_type": "markdown",
      "source": [
        "Aqui são definidas algumas funções que serão utilizadas posteriormente, para extrair frames do vídeo (1 por segundo), e converter em array de imagens"
      ],
      "metadata": {
        "id": "sxXeqZ6JYD6W"
      }
    },
    {
      "cell_type": "code",
      "execution_count": 13,
      "metadata": {
        "id": "fTavUC1wwFVm"
      },
      "outputs": [],
      "source": [
        "import cv2\n",
        "import shutil\n",
        "\n",
        "# Create or cleanup existing extracted image frames directory.\n",
        "FRAME_EXTRACTION_DIRECTORY = \"/content/frames\"\n",
        "FRAME_PREFIX = \"_frame\"\n",
        "def create_frame_output_dir(output_dir):\n",
        "  if not os.path.exists(output_dir):\n",
        "    os.makedirs(output_dir)\n",
        "  else:\n",
        "    shutil.rmtree(output_dir)\n",
        "    os.makedirs(output_dir)\n",
        "\n",
        "def extract_frame_from_video(video_file_path):\n",
        "  print(f\"Extracting {video_file_path} at 1 frame per second. This might take a bit...\")\n",
        "  create_frame_output_dir(FRAME_EXTRACTION_DIRECTORY)\n",
        "  vidcap = cv2.VideoCapture(video_file_path)\n",
        "  fps = vidcap.get(cv2.CAP_PROP_FPS)\n",
        "  frame_duration = 1 / fps  # Time interval between frames (in seconds)\n",
        "  output_file_prefix = os.path.basename(video_file_path).replace('.', '_')\n",
        "  frame_count = 0\n",
        "  count = 0\n",
        "  while vidcap.isOpened():\n",
        "      success, frame = vidcap.read()\n",
        "      if not success: # End of video\n",
        "          break\n",
        "      if int(count / fps) == frame_count: # Extract a frame every second\n",
        "          min = frame_count // 60\n",
        "          sec = frame_count % 60\n",
        "          time_string = f\"{min:02d}:{sec:02d}\"\n",
        "          image_name = f\"{output_file_prefix}{FRAME_PREFIX}{time_string}.jpg\"\n",
        "          output_filename = os.path.join(FRAME_EXTRACTION_DIRECTORY, image_name)\n",
        "          cv2.imwrite(output_filename, frame)\n",
        "          frame_count += 1\n",
        "      count += 1\n",
        "  vidcap.release() # Release the capture object\\n\",\n",
        "  print(f\"Completed video frame extraction!\\n\\nExtracted: {frame_count} frames\")"
      ]
    },
    {
      "cell_type": "markdown",
      "source": [
        "Esta função exclui os dados da base do Gemini **gerados nesta aplicação**. Importante pra não lotar o armazenamento. Se não rodar no final, os arquivos são apagados automaticamente 2 dias após (segundo a documentação)"
      ],
      "metadata": {
        "id": "fuG2iN0EZdhr"
      }
    },
    {
      "cell_type": "code",
      "execution_count": 14,
      "metadata": {
        "id": "75cM54VG5VoV"
      },
      "outputs": [],
      "source": [
        "#variável que armazena o áudio do vídeo, declarando agora para poder excluir quando necessário\n",
        "response_mp3 = \"\"\n",
        "\n",
        "def delete_files():\n",
        "  print(f'Deleting {len(uploaded_files)} images. This might take a bit...')\n",
        "  for file in uploaded_files:\n",
        "    genai.delete_file(file.response.name)\n",
        "    print(f'Deleted {file.file_path} at URI {file.response.uri}')\n",
        "  if(response_mp3 != \"\"):\n",
        "    genai.delete_file(response_mp3)\n",
        "    print(f'Deleted {response_mp3}')\n",
        "  print(f\"Completed deleting files!\\n\\nDeleted: {len(uploaded_files)} files\")"
      ]
    },
    {
      "cell_type": "markdown",
      "source": [
        "# A partir do segundo teste\n",
        "\n",
        "**Se estiver realizando o segundo teste, pode começar a executar o código daqui!**\n",
        "\n",
        "\n",
        "Nesta seção, o sistema cria dois botões para o usuário escolher a forma de importação do vídeo. Por se tratar de uma imersão Alura+Google, foi desenvolvido usando o Youtube ou upload de vídeo, mas poderiam se criar outras formas posteriormente como outras redes sociais ou sites, além de outras fontes como imagens.\n",
        "\n",
        "# Importante!\n",
        "\n",
        "Por limitações dos serviços, APIs, processamento e tempo disponível de desenvolvimento, escolha vídeos curtos para testes (menos de 1 minuto para youtube, menos de 30 segundos para upload, segundo os poucos testes feitos por mim)."
      ],
      "metadata": {
        "id": "MZENKE_jWD3n"
      }
    },
    {
      "cell_type": "code",
      "source": [
        "# @title\n",
        "import ipywidgets as widgets\n",
        "from IPython.display import HTML\n",
        "from IPython.display import display\n",
        "from google.colab import files\n",
        "from IPython.display import clear_output\n",
        "\n",
        "display(HTML('<link rel=\"stylesheet\" href=\"//stackpath.bootstrapcdn.com/font-awesome/4.7.0/css/font-awesome.min.css\"/>'))\n",
        "\n",
        "#Descrição dos botões (pra não precisar repetir o texto no if)\n",
        "d_b_yt = \"Link do vídeo (youtube)\"\n",
        "d_b_up = \"Upload de vídeo\"\n",
        "\n",
        "\n",
        "button_yt = widgets.Button(description=d_b_yt, icon='youtube', button_style='danger')\n",
        "output = widgets.Output()\n",
        "button_up = widgets.Button(description=d_b_up, icon='upload', button_style='info')\n",
        "\n",
        "tipo = '';\n",
        "\n",
        "def on_button_clicked(b):\n",
        "  global tipo\n",
        "  # Display the message within the output widget.\n",
        "  if(b.description == d_b_yt):\n",
        "    tipo = 'yt'\n",
        "  else:\n",
        "    tipo = 'up'\n",
        "  print(\"Tipo escolhido: \"+b.description)\n",
        "\n",
        "button_yt.on_click(on_button_clicked)\n",
        "button_up.on_click(on_button_clicked)\n",
        "\n",
        "display(button_yt, output)\n",
        "display(button_up, output)"
      ],
      "metadata": {
        "colab": {
          "base_uri": "https://localhost:8080/",
          "height": 116,
          "referenced_widgets": [
            "cc7fe881ab234ea8a81a328cd834fc01",
            "a3d66bf1cd084f43886d17c7b3420c2e",
            "7e77878dfbcf4e698e9ba46c867f391f",
            "f6fdee181ef04e1a85933001d5309488",
            "a532df0142f848d88a77d31632d0f82b",
            "e8795771fc8b4438b85b2835bd391089",
            "c87ac0912f6147938c39d2ccb9f3d075",
            "f183f480f10542a794f5cf3cbe06bc7c"
          ]
        },
        "id": "wgYlI9IGUjQl",
        "outputId": "b30e25e0-78d0-464b-a2e9-65b1c716fa11"
      },
      "execution_count": 1,
      "outputs": [
        {
          "output_type": "display_data",
          "data": {
            "text/plain": [
              "<IPython.core.display.HTML object>"
            ],
            "text/html": [
              "<link rel=\"stylesheet\" href=\"//stackpath.bootstrapcdn.com/font-awesome/4.7.0/css/font-awesome.min.css\"/>"
            ]
          },
          "metadata": {}
        },
        {
          "output_type": "display_data",
          "data": {
            "text/plain": [
              "Button(button_style='danger', description='Link do vídeo (youtube)', icon='youtube', style=ButtonStyle())"
            ],
            "application/vnd.jupyter.widget-view+json": {
              "version_major": 2,
              "version_minor": 0,
              "model_id": "cc7fe881ab234ea8a81a328cd834fc01"
            }
          },
          "metadata": {}
        },
        {
          "output_type": "display_data",
          "data": {
            "text/plain": [
              "Output()"
            ],
            "application/vnd.jupyter.widget-view+json": {
              "version_major": 2,
              "version_minor": 0,
              "model_id": "f6fdee181ef04e1a85933001d5309488"
            }
          },
          "metadata": {}
        },
        {
          "output_type": "display_data",
          "data": {
            "text/plain": [
              "Button(button_style='info', description='Upload de vídeo', icon='upload', style=ButtonStyle())"
            ],
            "application/vnd.jupyter.widget-view+json": {
              "version_major": 2,
              "version_minor": 0,
              "model_id": "e8795771fc8b4438b85b2835bd391089"
            }
          },
          "metadata": {}
        },
        {
          "output_type": "display_data",
          "data": {
            "text/plain": [
              "Output()"
            ],
            "application/vnd.jupyter.widget-view+json": {
              "version_major": 2,
              "version_minor": 0,
              "model_id": "f6fdee181ef04e1a85933001d5309488"
            }
          },
          "metadata": {}
        },
        {
          "output_type": "stream",
          "name": "stdout",
          "text": [
            "Tipo escolhido: Upload de vídeo\n",
            "Tipo escolhido: Link do vídeo (youtube)\n"
          ]
        }
      ]
    },
    {
      "cell_type": "markdown",
      "source": [
        "Nesta seção, será feito o upload do vídeo ou download (se for do Youtube)"
      ],
      "metadata": {
        "id": "nOJzL01YX8Y-"
      }
    },
    {
      "cell_type": "code",
      "execution_count": 41,
      "metadata": {
        "colab": {
          "base_uri": "https://localhost:8080/"
        },
        "id": "ed9gOSAkq361",
        "outputId": "dd0d1164-755c-43fd-e6c5-49839d03644e"
      },
      "outputs": [
        {
          "name": "stdout",
          "output_type": "stream",
          "text": [
            "Digite a url do vídeo do youtubehttps://www.youtube.com/watch?v=VOajIjOvwGU\n"
          ]
        }
      ],
      "source": [
        "if(tipo == ''):\n",
        "  print(\"Por favor clique em algum botão na seção anterior!\")\n",
        "elif(tipo == 'yt'):\n",
        "  video = input(\"Digite a url do vídeo do youtube\")\n",
        "  from pytube import YouTube\n",
        "  yt = YouTube(video)\n",
        "  video = yt.streams.first().download()\n",
        "else:\n",
        "  uploaded = files.upload()\n",
        "  #não precisaria usar o for aqui, mas não sei programar em python e isso funciona :)\n",
        "  for fn in uploaded.keys():\n",
        "    video = fn"
      ]
    },
    {
      "cell_type": "markdown",
      "source": [
        "Aqui o sistema envia para o Google as imagens obtidas nos frames. Como vídeos muito grandes estavam falhando, são selecionados apenas uma quantia de frames pequena para enviar.\n",
        "\n",
        "*@todo Dar um jeito de funcionar para mais frames*"
      ],
      "metadata": {
        "id": "cPs67gcHZ4OC"
      }
    },
    {
      "cell_type": "code",
      "execution_count": 42,
      "metadata": {
        "colab": {
          "base_uri": "https://localhost:8080/"
        },
        "id": "FliD0l2Q3WT1",
        "outputId": "52753621-2d4f-4573-fe83-d80dbf7375be"
      },
      "outputs": [
        {
          "output_type": "stream",
          "name": "stdout",
          "text": [
            "Extracting /content/Canadian PM Trudeau blasts Catholic Church after discovery of mass grave.mp4 at 1 frame per second. This might take a bit...\n",
            "Completed video frame extraction!\n",
            "\n",
            "Extracted: 160 frames\n",
            "Uploading 20 files. This might take a bit...\n",
            "Uploading: /content/frames/Canadian PM Trudeau blasts Catholic Church after discovery of mass grave_mp4_frame00:00.jpg...\n",
            "Uploading: /content/frames/Canadian PM Trudeau blasts Catholic Church after discovery of mass grave_mp4_frame00:01.jpg...\n",
            "Uploading: /content/frames/Canadian PM Trudeau blasts Catholic Church after discovery of mass grave_mp4_frame00:02.jpg...\n",
            "Uploading: /content/frames/Canadian PM Trudeau blasts Catholic Church after discovery of mass grave_mp4_frame00:03.jpg...\n",
            "Uploading: /content/frames/Canadian PM Trudeau blasts Catholic Church after discovery of mass grave_mp4_frame00:04.jpg...\n",
            "Uploading: /content/frames/Canadian PM Trudeau blasts Catholic Church after discovery of mass grave_mp4_frame00:05.jpg...\n",
            "Uploading: /content/frames/Canadian PM Trudeau blasts Catholic Church after discovery of mass grave_mp4_frame00:06.jpg...\n",
            "Uploading: /content/frames/Canadian PM Trudeau blasts Catholic Church after discovery of mass grave_mp4_frame00:07.jpg...\n",
            "Uploading: /content/frames/Canadian PM Trudeau blasts Catholic Church after discovery of mass grave_mp4_frame00:08.jpg...\n",
            "Uploading: /content/frames/Canadian PM Trudeau blasts Catholic Church after discovery of mass grave_mp4_frame00:09.jpg...\n",
            "Uploading: /content/frames/Canadian PM Trudeau blasts Catholic Church after discovery of mass grave_mp4_frame00:10.jpg...\n",
            "Uploading: /content/frames/Canadian PM Trudeau blasts Catholic Church after discovery of mass grave_mp4_frame00:11.jpg...\n",
            "Uploading: /content/frames/Canadian PM Trudeau blasts Catholic Church after discovery of mass grave_mp4_frame00:12.jpg...\n",
            "Uploading: /content/frames/Canadian PM Trudeau blasts Catholic Church after discovery of mass grave_mp4_frame00:13.jpg...\n",
            "Uploading: /content/frames/Canadian PM Trudeau blasts Catholic Church after discovery of mass grave_mp4_frame00:14.jpg...\n",
            "Uploading: /content/frames/Canadian PM Trudeau blasts Catholic Church after discovery of mass grave_mp4_frame00:15.jpg...\n",
            "Uploading: /content/frames/Canadian PM Trudeau blasts Catholic Church after discovery of mass grave_mp4_frame00:16.jpg...\n",
            "Uploading: /content/frames/Canadian PM Trudeau blasts Catholic Church after discovery of mass grave_mp4_frame00:17.jpg...\n",
            "Uploading: /content/frames/Canadian PM Trudeau blasts Catholic Church after discovery of mass grave_mp4_frame00:18.jpg...\n",
            "Uploading: /content/frames/Canadian PM Trudeau blasts Catholic Church after discovery of mass grave_mp4_frame00:19.jpg...\n",
            "Completed file uploads!\n",
            "\n",
            "Uploaded: 20 files\n"
          ]
        }
      ],
      "source": [
        "class File:\n",
        "  def __init__(self, file_path: str, display_name: str = None):\n",
        "    self.file_path = file_path\n",
        "    if display_name:\n",
        "      self.display_name = display_name\n",
        "    self.timestamp = get_timestamp(file_path)\n",
        "\n",
        "  def set_file_response(self, response):\n",
        "    self.response = response\n",
        "\n",
        "def get_timestamp(filename):\n",
        "  \"\"\"Extracts the frame count (as an integer) from a filename with the format\n",
        "     'output_file_prefix_frame00:00.jpg'.\n",
        "  \"\"\"\n",
        "  parts = filename.split(FRAME_PREFIX)\n",
        "  if len(parts) != 2:\n",
        "      return None  # Indicates the filename might be incorrectly formatted\n",
        "  return parts[1].split('.')[0]\n",
        "\n",
        "#Chama a função de extração de frames\n",
        "extract_frame_from_video(video)\n",
        "\n",
        "# Process each frame in the output directory\n",
        "files = os.listdir(FRAME_EXTRACTION_DIRECTORY)\n",
        "files = sorted(files)\n",
        "files_to_upload = []\n",
        "for file in files:\n",
        "  files_to_upload.append(\n",
        "      File(file_path=os.path.join(FRAME_EXTRACTION_DIRECTORY, file)))\n",
        "\n",
        "# Upload the files to the API\n",
        "# Only upload a {max_frames} second slice of files to reduce upload time.\n",
        "# Change full_video to True to upload the whole video.\n",
        "full_video = False\n",
        "max_frames = 20\n",
        "\n",
        "uploaded_files = []\n",
        "print(f'Uploading {len(files_to_upload) if full_video else max_frames} files. This might take a bit...')\n",
        "\n",
        "for file in files_to_upload if full_video else files_to_upload[0:max_frames]:\n",
        "  print(f'Uploading: {file.file_path}...')\n",
        "  response = genai.upload_file(path=file.file_path)\n",
        "  file.set_file_response(response)\n",
        "  uploaded_files.append(file)\n",
        "\n",
        "print(f\"Completed file uploads!\\n\\nUploaded: {len(uploaded_files)} files\")"
      ]
    },
    {
      "cell_type": "markdown",
      "source": [
        "Aqui começamos a utilizar a IA!!!\n",
        "\n",
        "Primeiramente fazemos uma descrição do vídeo, baseado nos frames enviados (apenas as imagens) e armazenamos a resposta"
      ],
      "metadata": {
        "id": "25ncB4Pmayh0"
      }
    },
    {
      "cell_type": "code",
      "execution_count": 43,
      "metadata": {
        "id": "JHqfS7uO4tNG"
      },
      "outputs": [],
      "source": [
        "# Create the prompt.\n",
        "prompt = \"Descreva o vídeo no idioma nativo do vídeo\"\n",
        "\n",
        "# Set the model to Gemini 1.5 Pro.\n",
        "model = genai.GenerativeModel(model_name=\"models/gemini-1.5-pro-latest\")\n",
        "\n",
        "# Make GenerateContent request with the structure described above.\n",
        "def make_request(prompt, files):\n",
        "  request = [prompt]\n",
        "  for file in files:\n",
        "    request.append(file.timestamp)\n",
        "    request.append(file.response)\n",
        "  return request\n",
        "\n",
        "# Make the LLM request.\n",
        "request = make_request(prompt, uploaded_files)\n",
        "response_video = model.generate_content(request,\n",
        "                                  request_options={\"timeout\": 600})"
      ]
    },
    {
      "cell_type": "markdown",
      "source": [
        "Agora extraímos o áudio do vídeo e armazenamos num mp3"
      ],
      "metadata": {
        "id": "kRob83sXcRE8"
      }
    },
    {
      "cell_type": "code",
      "execution_count": 44,
      "metadata": {
        "colab": {
          "base_uri": "https://localhost:8080/"
        },
        "id": "BZD_vJvT8iYw",
        "outputId": "9de1529e-2877-4b61-ea7b-c6e4b521ccf4"
      },
      "outputs": [
        {
          "output_type": "stream",
          "name": "stdout",
          "text": [
            "MoviePy - Writing audio in audio.mp3\n"
          ]
        },
        {
          "output_type": "stream",
          "name": "stderr",
          "text": []
        },
        {
          "output_type": "stream",
          "name": "stdout",
          "text": [
            "MoviePy - Done.\n",
            "Audio extraction successful!\n"
          ]
        }
      ],
      "source": [
        "from moviepy.editor import VideoFileClip\n",
        "\n",
        "# Define the input video file and output audio file\n",
        "mp3_file = \"audio.mp3\"\n",
        "\n",
        "# Load the video clip\n",
        "#video_clip = VideoFileClip(yt)\n",
        "video_clip = VideoFileClip(video)\n",
        "\n",
        "# Extract the audio from the video clip\n",
        "audio_clip = video_clip.audio\n",
        "\n",
        "# Write the audio to a separate file\n",
        "audio_clip.write_audiofile(mp3_file)\n",
        "\n",
        "# Close the video and audio clips\n",
        "audio_clip.close()\n",
        "video_clip.close()\n",
        "\n",
        "print(\"Audio extraction successful!\")\n",
        "response_mp3 = genai.upload_file(mp3_file)"
      ]
    },
    {
      "cell_type": "markdown",
      "source": [
        "Utilizando o MP3 gerado, e a técnica de FEW-SHOTS ensinada nas aulas,  realizamos a transcrição do áudio seguindo o padrão desejado"
      ],
      "metadata": {
        "id": "NofUmgY0ccez"
      }
    },
    {
      "cell_type": "code",
      "execution_count": 45,
      "metadata": {
        "id": "LleiIogE-ovq"
      },
      "outputs": [],
      "source": [
        "prompt = {\"exemplos\":[{\n",
        "      \"tempo\":\"00:00 - 00:10\",\n",
        "      \"autor\":\"mulher 1\",\n",
        "      \"audio\":\"Estou muito contente hoje\"\n",
        "    },\n",
        "    {\n",
        "      \"tempo\":\"00:00 - 00:10\",\n",
        "      \"autor\":\"som ambiente\",\n",
        "      \"audio\":\"*barulho de passarinhos*\"\n",
        "    },\n",
        "    {\n",
        "      \"tempo\":\"00:11 - 00:20\",\n",
        "      \"autor\":\"Homem 1\",\n",
        "      \"audio\":\"Que bom, também estou muito contente\"\n",
        "    }\n",
        "          ]}\n",
        "exemplos = json.dumps(prompt)\n",
        "#como eu quero uma transcrição precisa, sem criatividade, vou deixar com temperatura 0\n",
        "generation_config = {\n",
        "  \"temperature\": 0,\n",
        "  \"response_mime_type\": \"application/json\",\n",
        "}\n",
        "response_audio = model.generate_content([\"Transcreva o áudio em json conforme o exemplo: \"+exemplos, response_mp3],\n",
        "                                  request_options={\"timeout\": 600}, generation_config=generation_config)"
      ]
    },
    {
      "cell_type": "markdown",
      "source": [
        "Utilizando novamente a técnica de FEW-SHOTS, vamos agora juntar áudio e vídeo para classificar o texto, contextualizar, definir um assunto, um level de periculosidade, já estimar uma probabilidade de ser uma notícia falsa e elencar sites confiáveis para buscar a informação.\n",
        "\n",
        "Muitos destes dados poderão ser atualizados quando for realizada uma busca no Google, se o Custom Search foi criado.\n",
        "\n",
        "Um sistema ou rede social poderia encerrar neste momento os dados para moderar os vídeos com alta probabilidade de serem falsos"
      ],
      "metadata": {
        "id": "VvD0fbR-dKKB"
      }
    },
    {
      "cell_type": "code",
      "execution_count": 46,
      "metadata": {
        "id": "PNaeVltCALKc"
      },
      "outputs": [],
      "source": [
        "model_simples = genai.GenerativeModel(model_name=\"gemini-1.5-pro-latest\")\n",
        "exemplos = [{\n",
        "    \"assunto\":\"Mulher explicando como fazer um bolo de chocolate\",\n",
        "    \"periculosidade_divulgacao\":\"1/10\",\n",
        "    \"justificativa_periculosidade\":\"Não há riscos envolvidos em se acreditar numa receita de bolo de chocolate\",\n",
        "    \"prompt_google\":\"Receita bolo de chocolate\",\n",
        "    \"probabilidade_fake_news\":\"1%\",\n",
        "    \"justificativa_probabilidade_fake_news\":\"Este vídeo aparentemente não é uma fake new, pois além de se tratar de um assunto costumeiro e sem relevância, é totalmente plausível que uma mulher faça bolo de chocolate da forma como apresentado\",\n",
        "    \"recomendavel_buscar_fontes\":False,\n",
        "    \"sugestao_sites_busca\":[\"https://tudogostoso.com.br\", \"https://www.receitasnestle.com.br/\"]\n",
        "},\n",
        "{\n",
        "    \"assunto\":\"Homem narrando invasão alienígena\",\n",
        "    \"periculosidade_divulgacao\":\"5/10\",\n",
        "    \"justificativa_periculosidade\":\"Há riscos em se acreditar nisso, pois poderia causar pânico desnecessariamente, embora seja provável que a maior parte da população não acredite. Não compartilhe este link sem ter certeza de fontes confiáveis\",\n",
        "    \"prompt_google\":\"Invasão alienígena - notícia\",\n",
        "    \"probabilidade_fake_news\":\"99%\",\n",
        "    \"justificativa_probabilidade_fake_news\":\"Este vídeo aparentemente é uma fake new, pois é extremamente improvável que uma invasão alienígena esteja ocorrendo\",\n",
        "    \"recomendavel_buscar_fontes\":True,\n",
        "    \"sugestao_sites_busca\":[\"https://g1.globo.com/\", \"https://noticias.uol.com.br/\", \"https://www.cnnbrasil.com.br/\"]\n",
        "},\n",
        "{\n",
        "    \"assunto\":\"Homem descrevendo remédio milagroso para curar a Covid\",\n",
        "    \"periculosidade_divulgacao\":\"9/10\",\n",
        "    \"justificativa_periculosidade\":\"Há um extremo risco em se acreditar nisso sem fontes confiáveis, pois impede que portadores da doença se tratem corretamente. Não compartilhe este link sem ter certeza de fontes confiáveis\",\n",
        "    \"prompt_google\":\"Covid tratamento e recomendações\",\n",
        "    \"probabilidade_fake_news\":\"95%\",\n",
        "    \"justificativa_probabilidade_fake_news\":\"Este vídeo provavelmente é uma fake new, pois não há registros ou estudos comprovados deste remédio na cura da Covid\",\n",
        "    \"recomendavel_buscar_fontes\":True,\n",
        "    \"sugestao_sites_busca\":[\"https://covid.saude.gov.br/\", \"https://www.gov.br/saude/pt-br/assuntos/covid-19\", \"https://www.who.int/emergencies/diseases/novel-coronavirus-2019\"]\n",
        "}\n",
        "]\n",
        "#convert o json em texto\n",
        "exemplos = json.dumps(exemplos)\n",
        "\n",
        "#Escolhi a temperatura de 0.3 para os dados serem ligeiramente criativos, mas evitando alucinações\n",
        "generation_config = {\n",
        "  \"temperature\": 0.3,\n",
        "  \"top_p\": 0.95,\n",
        "  \"top_k\": 0,\n",
        "  \"response_mime_type\": \"application/json\",\n",
        "}\n",
        "#prompt = \"Dado o vídeo \"+yt+\" com a seguinte descrição das imagens: \"+response_video.text+\"e a seguinte transcrição do áudio: \"+response_audio.text+ \",  responda conforme o exemplo: \"+exemplos\n",
        "prompt = \"Dado o vídeo \"+video+\" com a seguinte descrição das imagens: \"+response_video.text+\"e a seguinte transcrição do áudio: \"+response_audio.text+ \",  responda conforme o exemplo: \"+exemplos\n",
        "response_json = model.generate_content(prompt, generation_config=generation_config)\n",
        "\n",
        "#convert o texto em json\n",
        "json_test = json.loads(response_json.text)"
      ]
    },
    {
      "cell_type": "markdown",
      "source": [
        "Hora de buscar fontes recentes sobre a notícia ou tópico do vídeo. A inteligência artifical fica assim mais precisa pois tem fontes em tempo real.\n",
        "\n",
        "É interessante ressaltar que com o Custom Search é possível criar Whitelist de fontes confiáveis ou Blacklists de fontes não confiáveis. Mas cuidado para isso não tornar o software enviesado em suas respostas! Quanto mais fontes confiáveis melhor.\n",
        "\n",
        "# Importante\n",
        "\n",
        "A API de busca do Google (Custom Search) permite apenas 100 buscas por dia no nível gratuíto. É mais do que o suficiente para testes, mas não é possível utilizar como um produto desta maneira."
      ],
      "metadata": {
        "id": "7gCTt6OkewhU"
      }
    },
    {
      "cell_type": "code",
      "execution_count": 47,
      "metadata": {
        "colab": {
          "base_uri": "https://localhost:8080/"
        },
        "id": "d8IyFOfGaHBv",
        "outputId": "71639928-21d7-4426-cdd9-4f55975480a0"
      },
      "outputs": [
        {
          "output_type": "stream",
          "name": "stdout",
          "text": [
            "{'kind': 'customsearch#search', 'url': {'type': 'application/json', 'template': 'https://www.googleapis.com/customsearch/v1?q={searchTerms}&num={count?}&start={startIndex?}&lr={language?}&safe={safe?}&cx={cx?}&sort={sort?}&filter={filter?}&gl={gl?}&cr={cr?}&googlehost={googleHost?}&c2coff={disableCnTwTranslation?}&hq={hq?}&hl={hl?}&siteSearch={siteSearch?}&siteSearchFilter={siteSearchFilter?}&exactTerms={exactTerms?}&excludeTerms={excludeTerms?}&linkSite={linkSite?}&orTerms={orTerms?}&dateRestrict={dateRestrict?}&lowRange={lowRange?}&highRange={highRange?}&searchType={searchType}&fileType={fileType?}&rights={rights?}&imgSize={imgSize?}&imgType={imgType?}&imgColorType={imgColorType?}&imgDominantColor={imgDominantColor?}&alt=json'}, 'queries': {'request': [{'title': 'Google Custom Search - Descoberta de vala comum em escola residencial indígena no Canadá', 'totalResults': '9180', 'searchTerms': 'Descoberta de vala comum em escola residencial indígena no Canadá', 'count': 10, 'startIndex': 1, 'inputEncoding': 'utf8', 'outputEncoding': 'utf8', 'safe': 'off', 'cx': '9568f3a6308144d5a'}], 'nextPage': [{'title': 'Google Custom Search - Descoberta de vala comum em escola residencial indígena no Canadá', 'totalResults': '9180', 'searchTerms': 'Descoberta de vala comum em escola residencial indígena no Canadá', 'count': 10, 'startIndex': 11, 'inputEncoding': 'utf8', 'outputEncoding': 'utf8', 'safe': 'off', 'cx': '9568f3a6308144d5a'}]}, 'context': {'title': 'Google'}, 'searchInformation': {'searchTime': 0.334293, 'formattedSearchTime': '0.33', 'totalResults': '9180', 'formattedTotalResults': '9,180'}, 'items': [{'kind': 'customsearch#result', 'title': 'Restos mortais de 215 crianças são encontrados em escola para ...', 'htmlTitle': 'Restos mortais de 215 crianças são encontrados em <b>escola</b> para ...', 'link': 'https://www.bbc.com/portuguese/internacional-57292912', 'displayLink': 'www.bbc.com', 'snippet': 'May 29, 2021 ... A vala comum foi encontrada durante pesquisa em uma antiga escola residencial para indígenas do país. ... Canadá em uma antiga escola residencial\\xa0...', 'htmlSnippet': 'May 29, 2021 <b>...</b> A <b>vala comum</b> foi encontrada durante pesquisa em uma antiga <b>escola residencial</b> para indígenas do país. ... <b>Canadá</b> em uma antiga <b>escola residencial</b>&nbsp;...', 'cacheId': 'Rpx1FT-eYD4J', 'formattedUrl': 'https://www.bbc.com/portuguese/internacional-57292912', 'htmlFormattedUrl': 'https://www.bbc.com/portuguese/internacional-57292912', 'pagemap': {'cse_thumbnail': [{'src': 'https://encrypted-tbn0.gstatic.com/images?q=tbn:ANd9GcTdcmJQXgP73Zu4Aw1PvuKQtPetMTi7yEdAZgZEbvMoy1PYvoD2m-j7wU6D&s', 'width': '300', 'height': '168'}], 'metatags': [{'og:image': 'https://ichef.bbci.co.uk/news/1024/branded_portuguese/DBA8/production/_118723265_067692068-1.jpg', 'theme-color': '#B80000', 'twitter:card': 'summary_large_image', 'article:published_time': '2021-05-29T14:23:16.000Z', 'og:site_name': 'BBC News Brasil', 'apple-mobile-web-app-title': 'BBC News Brasil', 'msapplication-tileimage': 'https://static.files.bbci.co.uk/ws/simorgh-assets/public/portuguese/images/icons/icon-144x144.png', 'og:description': 'A vala comum foi encontrada durante pesquisa em uma antiga escola residencial para indígenas do país', 'twitter:creator': '@bbcbrasil', 'twitter:image:alt': 'A new classroom building at the Kamloops Indian Residential School is seen in Kamloops, British Columbia, Canada circa 1950', 'twitter:site': '@bbcbrasil', 'article:modified_time': '2021-05-29T14:23:16.000Z', 'application-name': 'BBC News Brasil', 'msapplication-tilecolor': '#B80000', 'og:image:alt': 'A new classroom building at the Kamloops Indian Residential School is seen in Kamloops, British Columbia, Canada circa 1950', 'og:type': 'article', 'twitter:title': 'Restos mortais de 215 crianças são encontrados em escola para indígenas no Canadá - BBC News Brasil', 'og:title': 'Restos mortais de 215 crianças são encontrados em escola para indígenas no Canadá - BBC News Brasil', 'article:author': 'https://www.facebook.com/bbcnews', 'facebook-domain-verification': 'mydfaj4vz8t5psneihy4nm6ff52fac', 'twitter:image:src': 'https://ichef.bbci.co.uk/news/1024/branded_portuguese/DBA8/production/_118723265_067692068-1.jpg', 'article:tag': 'Canadá', 'fb:app_id': '1609039196070050', 'viewport': 'width=device-width, initial-scale=1, minimum-scale=1', 'twitter:description': 'A vala comum foi encontrada durante pesquisa em uma antiga escola residencial para indígenas do país', 'mobile-web-app-capable': 'yes', 'og:locale': 'pt-BR', 'og:url': 'https://www.bbc.com/portuguese/internacional-57292912'}], 'cse_image': [{'src': 'https://ichef.bbci.co.uk/news/1024/branded_portuguese/DBA8/production/_118723265_067692068-1.jpg'}]}}, {'kind': 'customsearch#result', 'title': 'Restos mortais de 215 crianças são encontrados em escola para ...', 'htmlTitle': 'Restos mortais de 215 crianças são encontrados em <b>escola</b> para ...', 'link': 'https://g1.globo.com/mundo/noticia/2021/05/29/restos-mortais-de-215-criancas-sao-encontrados-em-escola-para-indigenas-no-canada.ghtml', 'displayLink': 'g1.globo.com', 'snippet': 'May 29, 2021 ... Uma vala comum com os restos mortais de 215 crianças foi encontrada no Canadá em uma antiga escola residencial criada para estudantes indígenas.', 'htmlSnippet': 'May 29, 2021 <b>...</b> Uma <b>vala comum</b> com os restos mortais de 215 crianças foi encontrada no <b>Canadá</b> em uma antiga <b>escola residencial</b> criada para estudantes indígenas.', 'formattedUrl': 'https://g1.globo.com/.../restos-mortais-de-215-criancas-sao-encontrados-em...', 'htmlFormattedUrl': 'https://g1.globo.com/.../restos-mortais-de-215-criancas-sao-encontrados-<b>em</b>...', 'pagemap': {'imageobject': [{'width': '696', 'url': 'https://s2-g1.glbimg.com/JuLNDF5mLbHGULuI6sovdArNfTw=/696x390/smart/filters:cover():strip_icc()/i.s3.glbimg.com/v1/AUTH_59edd422c0c84a879bd37670ae4f538a/internal_photos/bs/2021/9/Z/A4XXJbR9ivSrUBv2Q58w/image001-2-.jpg', 'height': '390'}, {'width': '94', 'url': 'https://s.glbimg.com/jo/g1/static/live/g1_amp/img/g1_logo_json_ld.png', 'height': '60'}], 'organization': [{'name': 'G1'}, {'name': 'BBC'}, {'name': 'G1'}], 'metatags': [{'og:image': 'https://s2-g1.glbimg.com/8gkczBJxoeebwXoebPxUL5TmZxM=/1200x/smart/filters:cover():strip_icc()/i.s3.glbimg.com/v1/AUTH_59edd422c0c84a879bd37670ae4f538a/internal_photos/bs/2021/9/Z/A4XXJbR9ivSrUBv2Q58w/image001-2-.jpg', 'twitter:card': 'summary_large_image', 'twitter:title': 'Restos mortais de 215 crianças são encontrados em escola para indígenas no Canadá', 'og:type': 'article', 'og:image:width': '1200', 'og:site_name': 'G1', 'og:title': 'Restos mortais de 215 crianças são encontrados em escola para indígenas no Canadá', 'title': 'Restos mortais de 215 crianças são encontrados em escola para indígenas no Canadá', 'fb:pages': '180562885329138, 219182291443741, 116428248441032, 245000562218276, 192158074155314, 200292646669956, 182638081814153, 134115896703387, 131554330279675, 150737454992906, 159354314154963, 163750819397, 746858798714372, 246628845518037, 569361039814687, 252487748264782, 322744631148014, 718028201673172', 'og:description': 'A vala comum foi encontrada durante pesquisa em uma antiga escola residencial para indígenas do país.', 'twitter:image': 'https://s2-g1.glbimg.com/8gkczBJxoeebwXoebPxUL5TmZxM=/1200x/smart/filters:cover():strip_icc()/i.s3.glbimg.com/v1/AUTH_59edd422c0c84a879bd37670ae4f538a/internal_photos/bs/2021/9/Z/A4XXJbR9ivSrUBv2Q58w/image001-2-.jpg', 'fb:app_id': '289255557788943', 'viewport': 'width=device-width, initial-scale=1', 'twitter:description': 'A vala comum foi encontrada durante pesquisa em uma antiga escola residencial para indígenas do país.', 'og:locale': 'pt_BR', 'og:url': 'https://g1.globo.com/mundo/noticia/2021/05/29/restos-mortais-de-215-criancas-sao-encontrados-em-escola-para-indigenas-no-canada.ghtml'}], 'newsarticle': [{'articlebody': '1 de 2 A escola residencial indígena Kamloops, na British Columbia, já abrigou 500 crianças — Foto: Reuters via BBC A escola residencial indígena Kamloops, na British Columbia, já abrigou...', 'datemodified': '2021-05-29T16:16:28.113Z', 'isaccessibleforfree': 'true', 'alternativeheadline': 'A vala comum foi encontrada durante pesquisa em uma antiga escola residencial para indígenas do país.', 'name': 'Restos mortais de 215 crianças são encontrados em escola para indígenas no Canadá', 'alternatename': 'A vala comum foi encontrada durante pesquisa em uma antiga escola residencial para indígenas do país.', 'headline': 'Restos mortais de 215 crianças são encontrados em escola para indígenas no Canadá', 'datepublished': '2021-05-29T16:16:27.687Z', 'mainentityofpage': 'https://g1.globo.com/mundo/noticia/2021/05/29/restos-mortais-de-215-criancas-sao-encontrados-em-escola-para-indigenas-no-canada.ghtml'}]}}, {'kind': 'customsearch#result', 'title': 'Canadá: a sombria história de um massacre indígena - Outras ...', 'htmlTitle': '<b>Canadá</b>: a sombria história de um massacre <b>indígena</b> - Outras ...', 'link': 'https://outraspalavras.net/outrasmidias/canada-a-sombria-historia-de-um-massacre-indigena/', 'displayLink': 'outraspalavras.net', 'snippet': 'Jul 6, 2021 ... A descoberta da vala comum estimulou “uma ... A Escola Residencial Indígena ... canadá, colonialismo, colonialismo cultural, Escola Residencial\\xa0...', 'htmlSnippet': 'Jul 6, 2021 <b>...</b> A <b>descoberta</b> da <b>vala comum</b> estimulou “uma ... A <b>Escola Residencial Indígena</b> ... <b>canadá</b>, colonialismo, colonialismo cultural, <b>Escola Residencial</b>&nbsp;...', 'cacheId': 'WewY1Z6hqzQJ', 'formattedUrl': 'https://outraspalavras.net/.../canada-a-sombria-historia-de-um-massacre-indi...', 'htmlFormattedUrl': 'https://outraspalavras.net/.../canada-a-sombria-historia-de-um-massacre-indi...', 'pagemap': {'cse_thumbnail': [{'src': 'https://encrypted-tbn0.gstatic.com/images?q=tbn:ANd9GcTBVYwIDM0DKtVPky8U7IiCeFuv3tLmiU_7Q3MYtI_Z-ezTgDPxc2fPzCM&s', 'width': '275', 'height': '183'}], 'metatags': [{'og:image': 'https://outraspalavras.net/wp-content/uploads/2021/07/Screenshot-2021-07-06-at-13-03-35-ceremony-for-kamloops-indian-residential-school-children-jpg-WEBP-Image-780-×-520-pixels.png', 'og:type': 'article', 'og:image:width': '780', 'twitter:card': 'summary_large_image', 'og:site_name': 'Outras Palavras', 'tec-api-origin': 'https://outraspalavras.net', 'og:title': 'Canadá: a sombria história de um massacre indígena - Outras Palavras', 'og:image:height': '520', 'twitter:label1': 'Est. tempo de leitura', 'og:image:type': 'image/png', 'og:description': 'Descoberta de restos mortais de 215 crianças originárias reabre as feridas coloniais no país. Sequestradas das aldeias, elas eram seviciadas em escolas católicas. Ruas se insurgem e propõem ouvir os gritos e sussurros da História', 'article:publisher': 'https://www.facebook.com/outraspalavras', 'twitter:data1': '3 minutos', 'twitter:site': '@outraspalavrass', 'article:modified_time': '2021-07-06T16:44:29+00:00', 'viewport': 'width=device-width, initial-scale=1, user-scalable=no, maximum-scale=1.0', 'og:locale': 'pt_BR', 'og:url': 'https://outraspalavras.net/outrasmidias/canada-a-sombria-historia-de-um-massacre-indigena/', 'tec-api-version': 'v1'}], 'cse_image': [{'src': 'https://outraspalavras.net/wp-content/uploads/2021/07/Screenshot-2021-07-06-at-13-03-35-ceremony-for-kamloops-indian-residential-school-children-jpg-WEBP-Image-780-%C3%97-520-pixels.png'}]}}, {'kind': 'customsearch#result', 'title': 'Restos mortais de 215 crianças são retirados em escola do Canadá ...', 'htmlTitle': 'Restos mortais de 215 crianças são retirados em <b>escola</b> do <b>Canadá</b> ...', 'link': 'https://www.meionews.com/curiosidades/restos-mortais-de-215-criancas-sao-encontrados-em-escola-no-canada-415116', 'displayLink': 'www.meionews.com', 'snippet': 'May 30, 2021 ... Uma vala comum com os restos mortais de 215 crianças foi encontrada no Canadá em uma antiga escola residencial criada para estudantes indígenas.', 'htmlSnippet': 'May 30, 2021 <b>...</b> Uma <b>vala comum</b> com os restos mortais de 215 crianças foi encontrada no <b>Canadá</b> em uma antiga <b>escola residencial</b> criada para estudantes indígenas.', 'cacheId': 'bVbTShPp1NkJ', 'formattedUrl': 'https://www.meionews.com/.../restos-mortais-de-215-criancas-sao-encontra...', 'htmlFormattedUrl': 'https://www.meionews.com/.../restos-mortais-de-215-criancas-sao-encontra...', 'pagemap': {'cse_thumbnail': [{'src': 'https://encrypted-tbn0.gstatic.com/images?q=tbn:ANd9GcS4kW3tjvKjxi_QYbuYYfTxSmFt5S_PQ7ir8ZxumLXREbXrxrK3dmkERAQ&s', 'width': '238', 'height': '212'}], 'metatags': [{'og:image': '/uploads/imagens/2021/5/30/webp/restos-mortais-de-215-criancas-sao-encontrados-em-escola-no-canada-faf055b1-8d8f-46f9-aadd-41cf76b7d472.jpg.webp', 'theme-color': '#058de8', 'twitter:card': 'summary_large_image', 'og:type': 'article', 'og:site_name': 'Portal meionews.com', 'og:title': 'Restos mortais de 215 crianças são encontrados em escola no Canadá', 'og:image:type': 'image/webp', 'twitter:creator': '@meionorte', 'og:description': \"A descoberta foi anunciada na quinta-feira (27) pelo chefe da Primeira Nação Tk'emlups te Secwepemc. O primeiro-ministro Justin Trudeau, pediu desculpas\", 'fb:app_id': '1936214129986725', 'twitter:site': 'Portal Meio News', 'viewport': 'width=device-width,minimum-scale=1,initial-scale=1', 'og:locale': 'pt_BR', 'og:url': 'www.meionews.com/curiosidades/restos-mortais-de-215-criancas-sao-encontrados-em-escola-no-canada-415116'}], 'cse_image': [{'src': 'https://www.meionews.com/uploads/imagens/2021/5/30/webp/restos-mortais-de-215-criancas-sao-encontrados-em-escola-no-canada-faf055b1-8d8f-46f9-aadd-41cf76b7d472.jpg.webp'}]}}, {'kind': 'customsearch#result', 'title': 'Escola Residencial Indígena Kamloops – Wikipédia, a enciclopédia ...', 'htmlTitle': '<b>Escola Residencial Indígena</b> Kamloops – Wikipédia, a enciclopédia ...', 'link': 'https://pt.wikipedia.org/wiki/Escola_Residencial_Ind%C3%ADgena_Kamloops', 'displayLink': 'pt.wikipedia.org', 'snippet': 'A Escola Residencial Indígena Kamloops (em inglês: Kamloops Indian Residential School) fazia parte do sistema de escolas residenciais indianas canadenses.', 'htmlSnippet': 'A <b>Escola Residencial Indígena</b> Kamloops (em inglês: Kamloops Indian Residential School) fazia parte do sistema de escolas residenciais indianas canadenses.', 'cacheId': 'TgIj283mT6UJ', 'formattedUrl': 'https://pt.wikipedia.org/wiki/Escola_Residencial_Indígena_Kamloops', 'htmlFormattedUrl': 'https://pt.wikipedia.org/wiki/<b>Escola</b>_<b>Residencial</b>_<b>Indígena</b>_Kamloops', 'pagemap': {'cse_thumbnail': [{'src': 'https://encrypted-tbn0.gstatic.com/images?q=tbn:ANd9GcRHspiT8s4CYK9rr6uMn0Edo7YsJCmAQhInBC3ccAEnma0grsl_aiDj_kY&s', 'width': '220', 'height': '147'}], 'metatags': [{'referrer': 'origin', 'theme-color': '#eaecf0', 'og:type': 'website', 'viewport': 'width=device-width, initial-scale=1.0, user-scalable=yes, minimum-scale=0.25, maximum-scale=5.0', 'og:title': 'Escola Residencial Indígena Kamloops – Wikipédia, a enciclopédia livre', 'format-detection': 'telephone=no'}], 'cse_image': [{'src': 'https://upload.wikimedia.org/wikipedia/commons/thumb/8/81/Kamloops_Residential_School_Memorial%2C_May_30th_2021.jpg/220px-Kamloops_Residential_School_Memorial%2C_May_30th_2021.jpg'}]}}, {'kind': 'customsearch#result', 'title': 'Restos mortais de 215 crianças encontrados numa antiga escola ...', 'htmlTitle': 'Restos mortais de 215 crianças encontrados numa antiga <b>escola</b> ...', 'link': 'https://www.publico.pt/2021/05/29/mundo/noticia/restos-mortais-215-criancas-encontrados-antiga-escola-indigena-canada-1964609', 'displayLink': 'www.publico.pt', 'snippet': 'May 29, 2021 ... Foi descoberta uma vala comum com restos mortais de 215 crianças numa antiga escola para estudantes indígenas no Canadá.', 'htmlSnippet': 'May 29, 2021 <b>...</b> Foi <b>descoberta</b> uma <b>vala comum</b> com restos mortais de 215 crianças numa antiga <b>escola</b> para estudantes indígenas no <b>Canadá</b>.', 'formattedUrl': 'https://www.publico.pt/.../restos-mortais-215-criancas-encontrados-antiga-e...', 'htmlFormattedUrl': 'https://www.publico.pt/.../restos-mortais-215-criancas-encontrados-antiga-<b>e</b>...', 'pagemap': {'cse_thumbnail': [{'src': 'https://encrypted-tbn0.gstatic.com/images?q=tbn:ANd9GcTzZiPc1Tbsavqw7kcVKHjY9BKe9V8lHw8GO3_xe0ltbGmh3VipwXE-qaw&s', 'width': '271', 'height': '186'}], 'metatags': [{'application-name': 'PÚBLICO', 'apple-itunes-app': 'app-id=953049142', 'og:image': 'https://imagens.publico.pt/imagens.aspx/1590038?tp=UH&db=IMAGENS&type=JPG&share=1&o=BarraFacebook_Publico.png', 'msapplication-config': 'https://static.publico.pt/files/site/assets/img/ico/browserconfig.xml', 'og:type': 'article', 'twitter:title': 'Restos mortais de 215 crianças encontrados numa antiga escola indígena no Canadá', 'twitter:card': 'summary', 'theme-color': '#ffffff', 'og:site_name': 'PÚBLICO', 'twitter:site:id': '2561091', 'twitter:url': 'https://www.publico.pt', 'author': 'Reuters', 'apple-mobile-web-app-title': 'publico.pt', 'og:title': 'Restos mortais de 215 crianças encontrados numa antiga escola indígena no Canadá', 'bingbot': 'noarchive', 'og:description': 'Foi descoberta uma vala comum com restos mortais de 215 crianças numa antiga escola para estudantes indígenas no Canadá. O sistema, que separou à força as crianças indígenas das suas famílias, constituiu um “genocídio cultural” conhecido por abusos', 'twitter:image': 'https://imagens.publico.pt/imagens.aspx/1590038?tp=UH&db=IMAGENS&type=JPG&share=1&o=BarraFacebook_Publico.png', 'referrer': 'strict-origin-when-cross-origin', 'fb:app_id': '263434066253', 'twitter:site': '@publico', 'viewport': 'width=device-width, initial-scale=1', 'news_keywords': 'Mundo, Povos indígenas, Crime, lei e justiça, Questões sociais, Arqueologia, História, Canadá, Discriminação', 'twitter:description': 'Foi descoberta uma vala comum com restos mortais de 215 crianças numa antiga escola para estudantes indígenas no Canadá. O sistema, que separou à força as crianças indígenas das suas famílias, constituiu um “genocídio cultural” conhecido por abusos', 'og:url': 'https://www.publico.pt/2021/05/29/mundo/noticia/restos-mortais-215-criancas-encontrados-antiga-escola-indigena-canada-1964609'}], 'cse_image': [{'src': 'https://imagens.publico.pt/imagens.aspx/1590038?tp=UH&db=IMAGENS&type=JPG&share=1&o=BarraFacebook_Publico.png'}]}}, {'kind': 'customsearch#result', 'title': 'Justin Trudeau \"desapontado\" com silêncio da igreja nos internatos ...', 'htmlTitle': 'Justin Trudeau &quot;desapontado&quot; com silêncio da igreja nos internatos ...', 'link': 'https://www.rfi.fr/pt/mundo/20210605-justin-trudeau-desapontado-com-sil%C3%AAncio-da-igreja-nos-internatos-ind%C3%ADgenas', 'displayLink': 'www.rfi.fr', 'snippet': 'Jun 5, 2021 ... ... escola residencial para indígenas que já foi a maior do país. ... vala comum com os restos mortais de 200 crianças numa escola indígena no Canadá.', 'htmlSnippet': 'Jun 5, 2021 <b>...</b> ... <b>escola residencial</b> para indígenas que já foi a maior do país. ... <b>vala comum</b> com os restos mortais de 200 crianças numa <b>escola indígena</b> no <b>Canadá</b>.', 'cacheId': '6ai4Wbxafm8J', 'formattedUrl': 'https://www.rfi.fr/.../20210605-justin-trudeau-desapontado-com-silêncio-da...', 'htmlFormattedUrl': 'https://www.rfi.fr/.../20210605-justin-trudeau-desapontado-com-silêncio-da...', 'pagemap': {'cse_thumbnail': [{'src': 'https://encrypted-tbn0.gstatic.com/images?q=tbn:ANd9GcQuBXQohQ_hCR3LxXvebcIMw-nrQIFV809_JsGRBrBcMt8jVfEbgmy-yMQz&s', 'width': '300', 'height': '168'}], 'metatags': [{'og:see_also': 'https://www.rfi.fr/pt/mundo/20200710-austr%C3%A1lia-anuncia-suspens%C3%A3o-do-seu-tratado-de-extradi%C3%A7%C3%A3o-com-hong-kong', 'application-name': 'RFI', 'msapplication-tilecolor': '#e2001a', 'og:image': 'https://s.rfi.fr/media/display/8be51742-c609-11eb-897e-005056a98db9/w:1280/p:16x9/000_9BE8EK.jpg', 'og:type': 'article', 'article:published_time': '2021-06-05T14:29:07+00:00', 'article:section': 'mundo', 'twitter:card': 'summary_large_image', 'theme-color': '#ffffff', 'og:site_name': 'RFI', 'og:title': 'Justin Trudeau \"desapontado\" com silêncio da igreja nos internatos indígenas', 'apple-mobile-web-app-title': 'RFI', 'og:description': 'O primeiro-ministro canadiano, Justin Trudeau, disse estar \"profundamente desapontado\" pelo facto de a igreja católica romana não ter oferecido um pedido formal de desculpas pelo papel\\xa0 no antigo sistema…', 'fb:pages': '434438863316803', 'article:publisher': 'https://www.facebook.com/RFIpt/', 'article:author': 'https://www.facebook.com/RFIpt/', 'article:tag': 'Canadá', 'fb:app_id': '113191652055439', 'twitter:site': '@RFI_Pt', 'article:modified_time': '2021-06-05T14:29:07+00:00', 'viewport': 'width=device-width, initial-scale=1.0, viewport-fit=cover', 'apple-mobile-web-app-capable': 'yes', 'og:locale': 'pt_PT', 'og:url': 'https://www.rfi.fr/pt/mundo/20210605-justin-trudeau-desapontado-com-sil%C3%AAncio-da-igreja-nos-internatos-ind%C3%ADgenas'}], 'cse_image': [{'src': 'https://s.rfi.fr/media/display/8be51742-c609-11eb-897e-005056a98db9/w:1280/p:16x9/000_9BE8EK.jpg'}]}}, {'kind': 'customsearch#result', 'title': 'Restos mortais são achados junto a antiga escola indígena no ...', 'htmlTitle': 'Restos mortais são achados junto a antiga <b>escola indígena no</b> ...', 'link': 'https://agenciabrasil.ebc.com.br/internacional/noticia/2021-06/restos-mortais-sao-achados-junto-antiga-escola-indigena-no-canada', 'displayLink': 'agenciabrasil.ebc.com.br', 'snippet': 'Jun 25, 2021 ... ... indígenas na província de Saskatchewan, no Canadá. A descoberta ocorre apenas um mês depois ter sido identificada uma vala comum com os\\xa0...', 'htmlSnippet': 'Jun 25, 2021 <b>...</b> ... indígenas na província de Saskatchewan, no <b>Canadá</b>. A <b>descoberta</b> ocorre apenas um mês depois ter sido identificada uma <b>vala comum</b> com os&nbsp;...', 'cacheId': 'dnoWtEGGsLIJ', 'formattedUrl': 'https://agenciabrasil.ebc.com.br/.../restos-mortais-sao-achados-junto-antiga-...', 'htmlFormattedUrl': 'https://agenciabrasil.ebc.com.br/.../restos-mortais-sao-achados-junto-antiga-...', 'pagemap': {'cse_thumbnail': [{'src': 'https://encrypted-tbn0.gstatic.com/images?q=tbn:ANd9GcT6LSGZyRpufsidJoQC1wHgdpnwF2Nw7AnH7kHO2dPqqbe5xtvDXrtoks0W&s', 'width': '318', 'height': '159'}], 'metatags': [{'og:image': 'https://imagens.ebc.com.br/Z7zWofYxYZKvbq7fMyWZa4EZS-M=/1600x800/https://agenciabrasil.ebc.com.br/sites/default/files/thumbnails/image/2021-06-05t004029z_349240668_rc2stn9mm7sm_rtrmadp_3_canada-indigenous-children.jpg?itok=ZQBLKM_X', 'og:type': 'article', 'twitter:card': 'summary_large_image', 'twitter:title': 'Restos mortais são achados junto a antiga escola indígena no Canadá', 'article:published_time': '2021-06-25T13:07:00-03:00', 'og:site_name': 'Agência Brasil', 'og:image:url': 'https://imagens.ebc.com.br/Z7zWofYxYZKvbq7fMyWZa4EZS-M=/1600x800/https://agenciabrasil.ebc.com.br/sites/default/files/thumbnails/image/2021-06-05t004029z_349240668_rc2stn9mm7sm_rtrmadp_3_canada-indigenous-children.jpg?itok=ZQBLKM_X', 'twitter:url': 'https://agenciabrasil.ebc.com.br/internacional/noticia/2021-06/restos-mortais-sao-achados-junto-antiga-escola-indigena-no-canada', 'og:title': 'Restos mortais são achados junto a antiga escola indígena no Canadá', 'og:description': 'Internato de Marieval, aberto entre 1899 e 1996, foi uma de mais de 130 escolas do país geridas pelo governo e a Igreja Católica, com o objetivo de atender à população jovem indígena.', 'twitter:creator': '@agenciabrasil', 'og:image:secure_url': 'https://imagens.ebc.com.br/Z7zWofYxYZKvbq7fMyWZa4EZS-M=/1600x800/https://agenciabrasil.ebc.com.br/sites/default/files/thumbnails/image/2021-06-05t004029z_349240668_rc2stn9mm7sm_rtrmadp_3_canada-indigenous-children.jpg?itok=ZQBLKM_X', 'twitter:image': 'https://imagens.ebc.com.br/ZPCo2xvbR6Fz-gPbWwfaKsCPuxY=/754x0/smart/https://agenciabrasil.ebc.com.br/sites/default/files/thumbnails/image/2021-06-05t004029z_349240668_rc2stn9mm7sm_rtrmadp_3_canada-indigenous-children.jpg?itok=ntv8g0DA', 'twitter:image:alt': 'Grounds of the former Kamloops Indian Residential School are seen in Kamloops', 'twitter:site': '@agenciabrasil', 'viewport': 'width=device-width, initial-scale=1', 'twitter:description': 'Internato de Marieval, aberto entre 1899 e 1996, foi uma de mais de 130 escolas do país geridas pelo governo e a Igreja Católica, com o objetivo de atender à população jovem indígena.', 'og:url': 'https://agenciabrasil.ebc.com.br/internacional/noticia/2021-06/restos-mortais-sao-achados-junto-antiga-escola-indigena-no-canada'}], 'cse_image': [{'src': 'https://imagens.ebc.com.br/Z7zWofYxYZKvbq7fMyWZa4EZS-M=/1600x800/https://agenciabrasil.ebc.com.br/sites/default/files/thumbnails/image/2021-06-05t004029z_349240668_rc2stn9mm7sm_rtrmadp_3_canada-indigenous-children.jpg?itok=ZQBLKM_X'}]}}, {'kind': 'customsearch#result', 'title': 'Papa Francisco visitará o Canadá de 24 a 30 de julho', 'htmlTitle': 'Papa Francisco visitará o <b>Canadá</b> de 24 a 30 de julho', 'link': 'https://noticias.cancaonova.com/especiais/pontificado/francisco/papa-francisco-visitara-o-canada-de-24-a-30-de-julho/', 'displayLink': 'noticias.cancaonova.com', 'snippet': 'May 13, 2022 ... ... descoberta de uma vala comum na Escola Residencial Indígena Kamloops. Uma história de abusos e violências que ocorreram entre o final do\\xa0...', 'htmlSnippet': 'May 13, 2022 <b>...</b> ... <b>descoberta</b> de uma <b>vala comum</b> na <b>Escola Residencial Indígena</b> Kamloops. Uma história de abusos e violências que ocorreram entre o final do&nbsp;...', 'cacheId': 's-eoFGPvC2YJ', 'formattedUrl': 'https://noticias.cancaonova.com/.../papa-francisco-visitara-o-canada-de-24-...', 'htmlFormattedUrl': 'https://noticias.cancaonova.com/.../papa-francisco-visitara-o-canada-de-24-...', 'pagemap': {'cse_thumbnail': [{'src': 'https://encrypted-tbn0.gstatic.com/images?q=tbn:ANd9GcSHmdusNEzg3x89IDI12uPciw_Mg9ClisLHPvEpHysGf7E9wYj5YAtCWQ8&s', 'width': '259', 'height': '194'}], 'metatags': [{'msapplication-config': 'https://static.cancaonova.com/favicons/browserconfig.xml', 'og:image': 'https://img.cancaonova.com/cnimages/canais/uploads/sites/11/2022/05/papa-francisco-viagem-apostolica-Walter-Sanchez-Silva-CNA.png', 'theme-color': '#ffffff', 'article:published_time': '2022-05-13T09:13:48-03:00', 'og:image:width': '1600', 'twitter:card': 'summary_large_image', 'og:site_name': 'Notícias', 'msapplication-tileimage': 'https://static.cancaonova.com/favicons/mstile-144x144.png', 'og:description': 'Diretor da Sala de Imprensa da Santa Sé anunciou que o Pontífice aceitou o convite das autoridades para visitar o Canadá no final de julho', 'og:image:secure_url': 'https://img.cancaonova.com/cnimages/canais/uploads/sites/11/2022/05/papa-francisco-viagem-apostolica-Walter-Sanchez-Silva-CNA.png', 'twitter:image': 'https://img.cancaonova.com/cnimages/canais/uploads/sites/11/2022/05/papa-francisco-viagem-apostolica-Walter-Sanchez-Silva-CNA.png', 'article:modified_time': '2022-05-13T16:37:21-03:00', 'msapplication-tilecolor': '#003c54', 'og:type': 'article', 'article:section': 'Francisco', 'twitter:title': 'Papa Francisco visitará o Canadá de 24 a 30 de julho', 'og:title': 'Papa Francisco visitará o Canadá de 24 a 30 de julho', 'og:image:height': '1200', 'og:updated_time': '2022-05-13T16:37:21-03:00', 'article:tag': '38ª viagem apostólica', 'fb:app_id': '440558896075734', 'viewport': 'width=device-width, initial-scale=1.0, maximum-scale=1.0, user-scalable=0', 'twitter:description': 'Diretor da Sala de Imprensa da Santa Sé anunciou que o Pontífice aceitou o convite das autoridades para visitar o Canadá no final de julho', 'og:locale': 'pt_BR', 'og:url': 'https://noticias.cancaonova.com/especiais/pontificado/francisco/papa-francisco-visitara-o-canada-de-24-a-30-de-julho/'}], 'cse_image': [{'src': 'https://img.cancaonova.com/cnimages/canais/uploads/sites/11/2022/05/papa-francisco-viagem-apostolica-Walter-Sanchez-Silva-CNA.png'}]}}, {'kind': 'customsearch#result', 'title': 'Estátua de Egerton Ryerson tombada em protesto contra escola ...', 'htmlTitle': 'Estátua de Egerton Ryerson tombada em protesto contra <b>escola</b> ...', 'link': 'https://zumbofm.com/index.php/noticias/item/2207-estatua-de-egerton-ryerson-tombada-em-protesto-contra-escola-indigena-do-canada', 'displayLink': 'zumbofm.com', 'snippet': 'Jun 7, 2021 ... ... descoberta da vala comum na Escola Residencial Indígena Kamloops. Kamloops foi o maior internato obrigatório do Canadá administrado pelo\\xa0...', 'htmlSnippet': 'Jun 7, 2021 <b>...</b> ... <b>descoberta</b> da <b>vala comum</b> na <b>Escola Residencial Indígena</b> Kamloops. Kamloops foi o maior internato obrigatório do <b>Canadá</b> administrado pelo&nbsp;...', 'cacheId': 'K4DHJgYGqj8J', 'formattedUrl': 'https://zumbofm.com/.../2207-estatua-de-egerton-ryerson-tombada-em-prot...', 'htmlFormattedUrl': 'https://zumbofm.com/.../2207-estatua-de-egerton-ryerson-tombada-<b>em</b>-prot...', 'pagemap': {'cse_thumbnail': [{'src': 'https://encrypted-tbn0.gstatic.com/images?q=tbn:ANd9GcRkxjWc2wJgdejvsUSjtXQke97bMu1wnnW-oPc8lUnmBd8PULTOQF6f3nE&s', 'width': '360', 'height': '120'}], 'metatags': [{'og:image': 'https://www.zumbofm.com/media/k2/items/cache/e1a5260e14d121b13781ae5a05e2a9ed_M.jpg', 'image': 'https://www.zumbofm.com/media/k2/items/cache/e1a5260e14d121b13781ae5a05e2a9ed_M.jpg', 'og:type': 'article', 'twitter:card': 'summary', 'twitter:title': 'Estátua de Egerton Ryerson tombada em protesto contra escola indígena do Canadá', 'author': 'A. Chalanhane', 'og:title': 'Estátua de Egerton Ryerson tombada em protesto contra escola indígena do Canadá', 'og:description': 'Uma estátua foi derrubada na Universidade Ryerson em Toronto em um protesto contra a recente descoberta de uma vala comum de crianças indígenas em uma escola. Egerton Ryerson é considerado um dos arquitetos do controverso sistema de escolas residenciais do Canadá. Sua estátua já havia sido vandaliza...', 'twitter:image': 'https://www.zumbofm.com/media/k2/items/cache/e1a5260e14d121b13781ae5a05e2a9ed_M.jpg', 'twitter:image:alt': 'Estátua de Egerton Ryerson tombada em protesto contra escola indígena do Canadá', 'viewport': 'width=device-width, initial-scale=1', 'twitter:description': 'Uma estátua foi derrubada na Universidade Ryerson em Toronto em um protesto contra a recente descoberta de uma vala comum de crianças indígenas em uma escola. Egerton Ryerson é considerado um dos arqu...', 'og:url': 'https://zumbofm.com/index.php/noticias/item/2207-estatua-de-egerton-ryerson-tombada-em-protesto-contra-escola-indigena-do-canada'}], 'cse_image': [{'src': 'https://zumbofm.com/images/zumbo-logo.png'}], 'listitem': [{'item': 'Entrada', 'name': 'Entrada', 'position': '1'}, {'item': 'Notícias', 'name': 'Notícias', 'position': '2'}, {'name': 'Estátua de Egerton Ryerson tombada em protesto contra escola indígena do Canadá', 'position': '3'}]}}]}\n"
          ]
        }
      ],
      "source": [
        "buscar_google = True\n",
        "try:\n",
        "  api_key = GOOGLE_API_KEY\n",
        "  cx = GOOGLE_CX\n",
        "except NameError:\n",
        "  buscar_google = False\n",
        "\n",
        "if buscar_google:\n",
        "  import requests\n",
        "\n",
        "  query = json_test[0]['prompt_google']\n",
        "\n",
        "  url = f\"https://www.googleapis.com/customsearch/v1?key={api_key}&cx={cx}&q={query}\"\n",
        "  response = requests.get(url)\n",
        "  data = json.loads(response.text)\n",
        "\n",
        "  # Check for errors or empty search results\n",
        "  if 'error' in data:\n",
        "      print(\"Error:\", data['error']['message'])\n",
        "  elif 'items' not in data:\n",
        "      print(\"No search results found.\")\n",
        "  else:\n",
        "    print(data)"
      ]
    },
    {
      "cell_type": "markdown",
      "source": [
        "Aqui tabulamos e reduzimos os resultados vindos da API do Google para reduzir o número de tokens gerados para o Gemini"
      ],
      "metadata": {
        "id": "aq3r2bLXhL3K"
      }
    },
    {
      "cell_type": "code",
      "execution_count": 48,
      "metadata": {
        "id": "q75ejCgulhbZ"
      },
      "outputs": [],
      "source": [
        "if buscar_google:\n",
        "  # Extract search results\n",
        "  search_results = data['items']\n",
        "  results_google = []\n",
        "\n",
        "  for result in search_results:\n",
        "      title = result['title']\n",
        "      link = result['link']\n",
        "      snippet = result['snippet']\n",
        "      results_google.append({'Title': title, 'Link': link, 'Snippet': snippet})\n",
        "\n",
        "  results_google_json = json.dumps(results_google)"
      ]
    },
    {
      "cell_type": "markdown",
      "source": [
        "Hora de gerar uma conclusão sobre os dados, usando o json e a busca realizada no Google. Exibimos a conclusão para o usuário e as recomendações."
      ],
      "metadata": {
        "id": "lM8z-NzgicT-"
      }
    },
    {
      "cell_type": "code",
      "execution_count": 50,
      "metadata": {
        "id": "EG_0odgmShPj",
        "colab": {
          "base_uri": "https://localhost:8080/",
          "height": 471
        },
        "outputId": "a68bd771-d87c-46b0-bd64-7590674fb112"
      },
      "outputs": [
        {
          "output_type": "stream",
          "name": "stdout",
          "text": [
            "## Análise do Vídeo: Justin Trudeau e a Igreja Católica\n",
            "\n",
            "O vídeo que você enviou aborda um tema delicado e complexo: a descoberta de valas comuns em antigas escolas residenciais indígenas no Canadá e as críticas do Primeiro Ministro Justin Trudeau à Igreja Católica. \n",
            "\n",
            "**De acordo com nossa análise:**\n",
            "\n",
            "* **Probabilidade de Fake News: Baixa (5%)** - A descoberta de valas comuns em escolas residenciais indígenas é um fato histórico bem documentado e amplamente divulgado por fontes confiáveis. Diversos veículos de imprensa respeitáveis, como BBC, G1 e CBC News, reportaram sobre o assunto.\n",
            "* **Periculosidade da Divulgação: Moderada (3/10)** -  Embora o tema seja real e importante, a forma como é apresentado no vídeo pode influenciar a percepção do público. É crucial ter um entendimento completo do contexto histórico e das nuances envolvidas para evitar a disseminação de informações imprecisas ou tendenciosas. \n",
            "\n",
            "**Recomendações:**\n",
            "\n",
            "* **Compartilhar com cautela:** Antes de compartilhar o vídeo, certifique-se de ter um bom entendimento do contexto histórico e das diferentes perspectivas envolvidas. É importante evitar a disseminação de informações incompletas ou tendenciosas que possam gerar desinformação e tensões.\n",
            "* **Buscar fontes confiáveis:**  Para se aprofundar no assunto, recomendamos consultar as seguintes fontes:\n",
            "    * **Notícias:**\n",
            "        * BBC News: https://www.bbc.com/portuguese/internacional-57292912\n",
            "        * G1: https://g1.globo.com/mundo/noticia/2021/05/29/restos-mortais-de-215-criancas-sao-encontrados-em-escola-para-indigenas-no-canada.ghtml\n",
            "        * CBC News: https://www.cbc.ca/news\n",
            "        * CTV News: https://www.ctvnews.ca/\n",
            "        * Global News: https://globalnews.ca/\n",
            "    * **Outras fontes:**\n",
            "        * Outras Palavras: https://outraspalavras.net/outrasmidias/canada-a-sombria-historia-de-um-massacre-indigena/\n",
            "        * Wikipedia: https://pt.wikipedia.org/wiki/Escola_Residencial_Ind%C3%ADgena_Kamloops \n",
            "\n",
            "**Lembre-se:** A informação é uma ferramenta poderosa. Utilize-a com responsabilidade e consciência. \n",
            "\n"
          ]
        }
      ],
      "source": [
        "texto_busca_google = \" e os resultados do Google sobre o assunto: \"+results_google_json if buscar_google else \"\"\n",
        "conclusao_request = \"Dado o seguinte json: \"+response_json.text+texto_busca_google+\", que especifica a probabilidade de um vídeo enviado ser uma fake new. Caso sejam encontradas fontes confiáveis nos resultados do google, altere as informações do json para condizer com o encontrado antes de informar ao usuário. Redija um texto para o usuário citando todos os dados do json atualizado, links para se aprofundar no assunto - incluindo os links encontrados do google, recomendações sobre pesquisas e se deve compartilhar ou não o vídeo.\"\n",
        "response_conclusao = model.generate_content(conclusao_request)\n",
        "print(response_conclusao.text)"
      ]
    },
    {
      "cell_type": "markdown",
      "source": [
        "Ao fim, excluir todas as imagens e áudios enviados para a IA"
      ],
      "metadata": {
        "id": "z645pjZeizax"
      }
    },
    {
      "cell_type": "code",
      "execution_count": 40,
      "metadata": {
        "colab": {
          "base_uri": "https://localhost:8080/",
          "height": 451
        },
        "id": "Jk19lvK85idG",
        "outputId": "38b66c27-6540-489a-accc-dbf5da057b6d"
      },
      "outputs": [
        {
          "output_type": "stream",
          "name": "stdout",
          "text": [
            "Deleting 20 images. This might take a bit...\n",
            "Deleted /content/frames/Vídeo do WhatsApp de 2024-05-09 à(s) 18_31_11_7268a542_mp4_frame00:00.jpg at URI https://generativelanguage.googleapis.com/v1beta/files/xlbfqpu5jnmh\n",
            "Deleted /content/frames/Vídeo do WhatsApp de 2024-05-09 à(s) 18_31_11_7268a542_mp4_frame00:01.jpg at URI https://generativelanguage.googleapis.com/v1beta/files/3vve2h1edfrp\n",
            "Deleted /content/frames/Vídeo do WhatsApp de 2024-05-09 à(s) 18_31_11_7268a542_mp4_frame00:02.jpg at URI https://generativelanguage.googleapis.com/v1beta/files/u4o1zrtvyxhf\n",
            "Deleted /content/frames/Vídeo do WhatsApp de 2024-05-09 à(s) 18_31_11_7268a542_mp4_frame00:03.jpg at URI https://generativelanguage.googleapis.com/v1beta/files/8evxowpwh5ov\n",
            "Deleted /content/frames/Vídeo do WhatsApp de 2024-05-09 à(s) 18_31_11_7268a542_mp4_frame00:04.jpg at URI https://generativelanguage.googleapis.com/v1beta/files/z6td0ofbjwvz\n",
            "Deleted /content/frames/Vídeo do WhatsApp de 2024-05-09 à(s) 18_31_11_7268a542_mp4_frame00:05.jpg at URI https://generativelanguage.googleapis.com/v1beta/files/5htw21csvqfl\n",
            "Deleted /content/frames/Vídeo do WhatsApp de 2024-05-09 à(s) 18_31_11_7268a542_mp4_frame00:06.jpg at URI https://generativelanguage.googleapis.com/v1beta/files/g9hn6jjimbt1\n",
            "Deleted /content/frames/Vídeo do WhatsApp de 2024-05-09 à(s) 18_31_11_7268a542_mp4_frame00:07.jpg at URI https://generativelanguage.googleapis.com/v1beta/files/gcdp0g7xqj67\n",
            "Deleted /content/frames/Vídeo do WhatsApp de 2024-05-09 à(s) 18_31_11_7268a542_mp4_frame00:08.jpg at URI https://generativelanguage.googleapis.com/v1beta/files/ppygicpio6wd\n",
            "Deleted /content/frames/Vídeo do WhatsApp de 2024-05-09 à(s) 18_31_11_7268a542_mp4_frame00:09.jpg at URI https://generativelanguage.googleapis.com/v1beta/files/upb5jxunq495\n",
            "Deleted /content/frames/Vídeo do WhatsApp de 2024-05-09 à(s) 18_31_11_7268a542_mp4_frame00:10.jpg at URI https://generativelanguage.googleapis.com/v1beta/files/xqbkoqa6o1w2\n",
            "Deleted /content/frames/Vídeo do WhatsApp de 2024-05-09 à(s) 18_31_11_7268a542_mp4_frame00:11.jpg at URI https://generativelanguage.googleapis.com/v1beta/files/ok55cxy7wjzg\n",
            "Deleted /content/frames/Vídeo do WhatsApp de 2024-05-09 à(s) 18_31_11_7268a542_mp4_frame00:12.jpg at URI https://generativelanguage.googleapis.com/v1beta/files/gh20ll6p5z1z\n",
            "Deleted /content/frames/Vídeo do WhatsApp de 2024-05-09 à(s) 18_31_11_7268a542_mp4_frame00:13.jpg at URI https://generativelanguage.googleapis.com/v1beta/files/7hkdqd5rkcdh\n",
            "Deleted /content/frames/Vídeo do WhatsApp de 2024-05-09 à(s) 18_31_11_7268a542_mp4_frame00:14.jpg at URI https://generativelanguage.googleapis.com/v1beta/files/twahbneh18tn\n",
            "Deleted /content/frames/Vídeo do WhatsApp de 2024-05-09 à(s) 18_31_11_7268a542_mp4_frame00:15.jpg at URI https://generativelanguage.googleapis.com/v1beta/files/h0dblhlv3evq\n",
            "Deleted /content/frames/Vídeo do WhatsApp de 2024-05-09 à(s) 18_31_11_7268a542_mp4_frame00:16.jpg at URI https://generativelanguage.googleapis.com/v1beta/files/lht9e57iuv08\n",
            "Deleted /content/frames/Vídeo do WhatsApp de 2024-05-09 à(s) 18_31_11_7268a542_mp4_frame00:17.jpg at URI https://generativelanguage.googleapis.com/v1beta/files/axgy8dmgsapz\n",
            "Deleted /content/frames/Vídeo do WhatsApp de 2024-05-09 à(s) 18_31_11_7268a542_mp4_frame00:18.jpg at URI https://generativelanguage.googleapis.com/v1beta/files/ftn7z3hrh9av\n",
            "Deleted /content/frames/Vídeo do WhatsApp de 2024-05-09 à(s) 18_31_11_7268a542_mp4_frame00:19.jpg at URI https://generativelanguage.googleapis.com/v1beta/files/sqaqimnhsyog\n",
            "Deleted <google.generativeai.types.file_types.File object at 0x7f71d4443340>\n",
            "Completed deleting files!\n",
            "\n",
            "Deleted: 20 files\n"
          ]
        }
      ],
      "source": [
        "delete_files()"
      ]
    }
  ],
  "metadata": {
    "colab": {
      "provenance": [],
      "authorship_tag": "ABX9TyMlAZyMjQ5vS6MMTy1GSYfr",
      "include_colab_link": true
    },
    "kernelspec": {
      "display_name": "Python 3",
      "name": "python3"
    },
    "language_info": {
      "name": "python"
    },
    "widgets": {
      "application/vnd.jupyter.widget-state+json": {
        "cc7fe881ab234ea8a81a328cd834fc01": {
          "model_module": "@jupyter-widgets/controls",
          "model_name": "ButtonModel",
          "model_module_version": "1.5.0",
          "state": {
            "_dom_classes": [],
            "_model_module": "@jupyter-widgets/controls",
            "_model_module_version": "1.5.0",
            "_model_name": "ButtonModel",
            "_view_count": null,
            "_view_module": "@jupyter-widgets/controls",
            "_view_module_version": "1.5.0",
            "_view_name": "ButtonView",
            "button_style": "danger",
            "description": "Link do vídeo (youtube)",
            "disabled": false,
            "icon": "youtube",
            "layout": "IPY_MODEL_a3d66bf1cd084f43886d17c7b3420c2e",
            "style": "IPY_MODEL_7e77878dfbcf4e698e9ba46c867f391f",
            "tooltip": ""
          }
        },
        "a3d66bf1cd084f43886d17c7b3420c2e": {
          "model_module": "@jupyter-widgets/base",
          "model_name": "LayoutModel",
          "model_module_version": "1.2.0",
          "state": {
            "_model_module": "@jupyter-widgets/base",
            "_model_module_version": "1.2.0",
            "_model_name": "LayoutModel",
            "_view_count": null,
            "_view_module": "@jupyter-widgets/base",
            "_view_module_version": "1.2.0",
            "_view_name": "LayoutView",
            "align_content": null,
            "align_items": null,
            "align_self": null,
            "border": null,
            "bottom": null,
            "display": null,
            "flex": null,
            "flex_flow": null,
            "grid_area": null,
            "grid_auto_columns": null,
            "grid_auto_flow": null,
            "grid_auto_rows": null,
            "grid_column": null,
            "grid_gap": null,
            "grid_row": null,
            "grid_template_areas": null,
            "grid_template_columns": null,
            "grid_template_rows": null,
            "height": null,
            "justify_content": null,
            "justify_items": null,
            "left": null,
            "margin": null,
            "max_height": null,
            "max_width": null,
            "min_height": null,
            "min_width": null,
            "object_fit": null,
            "object_position": null,
            "order": null,
            "overflow": null,
            "overflow_x": null,
            "overflow_y": null,
            "padding": null,
            "right": null,
            "top": null,
            "visibility": null,
            "width": null
          }
        },
        "7e77878dfbcf4e698e9ba46c867f391f": {
          "model_module": "@jupyter-widgets/controls",
          "model_name": "ButtonStyleModel",
          "model_module_version": "1.5.0",
          "state": {
            "_model_module": "@jupyter-widgets/controls",
            "_model_module_version": "1.5.0",
            "_model_name": "ButtonStyleModel",
            "_view_count": null,
            "_view_module": "@jupyter-widgets/base",
            "_view_module_version": "1.2.0",
            "_view_name": "StyleView",
            "button_color": null,
            "font_weight": ""
          }
        },
        "f6fdee181ef04e1a85933001d5309488": {
          "model_module": "@jupyter-widgets/output",
          "model_name": "OutputModel",
          "model_module_version": "1.0.0",
          "state": {
            "_dom_classes": [],
            "_model_module": "@jupyter-widgets/output",
            "_model_module_version": "1.0.0",
            "_model_name": "OutputModel",
            "_view_count": null,
            "_view_module": "@jupyter-widgets/output",
            "_view_module_version": "1.0.0",
            "_view_name": "OutputView",
            "layout": "IPY_MODEL_a532df0142f848d88a77d31632d0f82b",
            "msg_id": "",
            "outputs": []
          }
        },
        "a532df0142f848d88a77d31632d0f82b": {
          "model_module": "@jupyter-widgets/base",
          "model_name": "LayoutModel",
          "model_module_version": "1.2.0",
          "state": {
            "_model_module": "@jupyter-widgets/base",
            "_model_module_version": "1.2.0",
            "_model_name": "LayoutModel",
            "_view_count": null,
            "_view_module": "@jupyter-widgets/base",
            "_view_module_version": "1.2.0",
            "_view_name": "LayoutView",
            "align_content": null,
            "align_items": null,
            "align_self": null,
            "border": null,
            "bottom": null,
            "display": null,
            "flex": null,
            "flex_flow": null,
            "grid_area": null,
            "grid_auto_columns": null,
            "grid_auto_flow": null,
            "grid_auto_rows": null,
            "grid_column": null,
            "grid_gap": null,
            "grid_row": null,
            "grid_template_areas": null,
            "grid_template_columns": null,
            "grid_template_rows": null,
            "height": null,
            "justify_content": null,
            "justify_items": null,
            "left": null,
            "margin": null,
            "max_height": null,
            "max_width": null,
            "min_height": null,
            "min_width": null,
            "object_fit": null,
            "object_position": null,
            "order": null,
            "overflow": null,
            "overflow_x": null,
            "overflow_y": null,
            "padding": null,
            "right": null,
            "top": null,
            "visibility": null,
            "width": null
          }
        },
        "e8795771fc8b4438b85b2835bd391089": {
          "model_module": "@jupyter-widgets/controls",
          "model_name": "ButtonModel",
          "model_module_version": "1.5.0",
          "state": {
            "_dom_classes": [],
            "_model_module": "@jupyter-widgets/controls",
            "_model_module_version": "1.5.0",
            "_model_name": "ButtonModel",
            "_view_count": null,
            "_view_module": "@jupyter-widgets/controls",
            "_view_module_version": "1.5.0",
            "_view_name": "ButtonView",
            "button_style": "info",
            "description": "Upload de vídeo",
            "disabled": false,
            "icon": "upload",
            "layout": "IPY_MODEL_c87ac0912f6147938c39d2ccb9f3d075",
            "style": "IPY_MODEL_f183f480f10542a794f5cf3cbe06bc7c",
            "tooltip": ""
          }
        },
        "c87ac0912f6147938c39d2ccb9f3d075": {
          "model_module": "@jupyter-widgets/base",
          "model_name": "LayoutModel",
          "model_module_version": "1.2.0",
          "state": {
            "_model_module": "@jupyter-widgets/base",
            "_model_module_version": "1.2.0",
            "_model_name": "LayoutModel",
            "_view_count": null,
            "_view_module": "@jupyter-widgets/base",
            "_view_module_version": "1.2.0",
            "_view_name": "LayoutView",
            "align_content": null,
            "align_items": null,
            "align_self": null,
            "border": null,
            "bottom": null,
            "display": null,
            "flex": null,
            "flex_flow": null,
            "grid_area": null,
            "grid_auto_columns": null,
            "grid_auto_flow": null,
            "grid_auto_rows": null,
            "grid_column": null,
            "grid_gap": null,
            "grid_row": null,
            "grid_template_areas": null,
            "grid_template_columns": null,
            "grid_template_rows": null,
            "height": null,
            "justify_content": null,
            "justify_items": null,
            "left": null,
            "margin": null,
            "max_height": null,
            "max_width": null,
            "min_height": null,
            "min_width": null,
            "object_fit": null,
            "object_position": null,
            "order": null,
            "overflow": null,
            "overflow_x": null,
            "overflow_y": null,
            "padding": null,
            "right": null,
            "top": null,
            "visibility": null,
            "width": null
          }
        },
        "f183f480f10542a794f5cf3cbe06bc7c": {
          "model_module": "@jupyter-widgets/controls",
          "model_name": "ButtonStyleModel",
          "model_module_version": "1.5.0",
          "state": {
            "_model_module": "@jupyter-widgets/controls",
            "_model_module_version": "1.5.0",
            "_model_name": "ButtonStyleModel",
            "_view_count": null,
            "_view_module": "@jupyter-widgets/base",
            "_view_module_version": "1.2.0",
            "_view_name": "StyleView",
            "button_color": null,
            "font_weight": ""
          }
        }
      }
    }
  },
  "nbformat": 4,
  "nbformat_minor": 0
}